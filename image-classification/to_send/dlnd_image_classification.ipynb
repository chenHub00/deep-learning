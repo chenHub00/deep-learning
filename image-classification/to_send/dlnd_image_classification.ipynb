{
 "cells": [
  {
   "cell_type": "markdown",
   "metadata": {
    "collapsed": true
   },
   "source": [
    "# Image Classification\n",
    "In this project, you'll classify images from the [CIFAR-10 dataset](https://www.cs.toronto.edu/~kriz/cifar.html).  The dataset consists of airplanes, dogs, cats, and other objects. You'll preprocess the images, then train a convolutional neural network on all the samples. The images need to be normalized and the labels need to be one-hot encoded.  You'll get to apply what you learned and build a convolutional, max pooling, dropout, and fully connected layers.  At the end, you'll get to see your neural network's predictions on the sample images.\n",
    "## Get the Data\n",
    "Run the following cell to download the [CIFAR-10 dataset for python](https://www.cs.toronto.edu/~kriz/cifar-10-python.tar.gz)."
   ]
  },
  {
   "cell_type": "code",
   "execution_count": 1,
   "metadata": {},
   "outputs": [
    {
     "name": "stdout",
     "output_type": "stream",
     "text": [
      "All files found!\n"
     ]
    }
   ],
   "source": [
    "\"\"\"\n",
    "DON'T MODIFY ANYTHING IN THIS CELL THAT IS BELOW THIS LINE\n",
    "\"\"\"\n",
    "from urllib.request import urlretrieve\n",
    "from os.path import isfile, isdir\n",
    "from tqdm import tqdm\n",
    "import problem_unittests as tests\n",
    "import tarfile\n",
    "\n",
    "cifar10_dataset_folder_path = 'cifar-10-batches-py'\n",
    "\n",
    "# Use Floyd's cifar-10 dataset if present\n",
    "floyd_cifar10_location = '/input/cifar-10/python.tar.gz'\n",
    "if isfile(floyd_cifar10_location):\n",
    "    tar_gz_path = floyd_cifar10_location\n",
    "else:\n",
    "    tar_gz_path = 'cifar-10-python.tar.gz'\n",
    "\n",
    "class DLProgress(tqdm):\n",
    "    last_block = 0\n",
    "\n",
    "    def hook(self, block_num=1, block_size=1, total_size=None):\n",
    "        self.total = total_size\n",
    "        self.update((block_num - self.last_block) * block_size)\n",
    "        self.last_block = block_num\n",
    "\n",
    "if not isfile(tar_gz_path):\n",
    "    with DLProgress(unit='B', unit_scale=True, miniters=1, desc='CIFAR-10 Dataset') as pbar:\n",
    "        urlretrieve(\n",
    "            'https://www.cs.toronto.edu/~kriz/cifar-10-python.tar.gz',\n",
    "            tar_gz_path,\n",
    "            pbar.hook)\n",
    "\n",
    "if not isdir(cifar10_dataset_folder_path):\n",
    "    with tarfile.open(tar_gz_path) as tar:\n",
    "        tar.extractall()\n",
    "        tar.close()\n",
    "\n",
    "\n",
    "tests.test_folder_path(cifar10_dataset_folder_path)"
   ]
  },
  {
   "cell_type": "markdown",
   "metadata": {},
   "source": [
    "## Explore the Data\n",
    "The dataset is broken into batches to prevent your machine from running out of memory.  The CIFAR-10 dataset consists of 5 batches, named `data_batch_1`, `data_batch_2`, etc.. Each batch contains the labels and images that are one of the following:\n",
    "* airplane\n",
    "* automobile\n",
    "* bird\n",
    "* cat\n",
    "* deer\n",
    "* dog\n",
    "* frog\n",
    "* horse\n",
    "* ship\n",
    "* truck\n",
    "\n",
    "Understanding a dataset is part of making predictions on the data.  Play around with the code cell below by changing the `batch_id` and `sample_id`. The `batch_id` is the id for a batch (1-5). The `sample_id` is the id for a image and label pair in the batch.\n",
    "\n",
    "Ask yourself \"What are all possible labels?\", \"What is the range of values for the image data?\", \"Are the labels in order or random?\".  Answers to questions like these will help you preprocess the data and end up with better predictions."
   ]
  },
  {
   "cell_type": "code",
   "execution_count": 2,
   "metadata": {},
   "outputs": [
    {
     "name": "stdout",
     "output_type": "stream",
     "text": [
      "\n",
      "Stats of batch 1:\n",
      "Samples: 10000\n",
      "Label Counts: {0: 1005, 1: 974, 2: 1032, 3: 1016, 4: 999, 5: 937, 6: 1030, 7: 1001, 8: 1025, 9: 981}\n",
      "First 20 Labels: [6, 9, 9, 4, 1, 1, 2, 7, 8, 3, 4, 7, 7, 2, 9, 9, 9, 3, 2, 6]\n",
      "\n",
      "Example of Image 5:\n",
      "Image - Min Value: 0 Max Value: 252\n",
      "Image - Shape: (32, 32, 3)\n",
      "Label - Label Id: 1 Name: automobile\n"
     ]
    },
    {
     "data": {
      "image/png": "[encoded data removed]",
      "text/plain": [
       "<matplotlib.figure.Figure at 0x7f37b73d47b8>"
      ]
     },
     "metadata": {
      "image/png": {
       "height": 250,
       "width": 253
      }
     },
     "output_type": "display_data"
    }
   ],
   "source": [
    "%matplotlib inline\n",
    "%config InlineBackend.figure_format = 'retina'\n",
    "\n",
    "import helper\n",
    "import numpy as np\n",
    "\n",
    "# Explore the dataset\n",
    "batch_id = 1\n",
    "sample_id = 5\n",
    "helper.display_stats(cifar10_dataset_folder_path, batch_id, sample_id)"
   ]
  },
  {
   "cell_type": "markdown",
   "metadata": {},
   "source": [
    "## Implement Preprocess Functions\n",
    "### Normalize\n",
    "In the cell below, implement the `normalize` function to take in image data, `x`, and return it as a normalized Numpy array. The values should be in the range of 0 to 1, inclusive.  The return object should be the same shape as `x`."
   ]
  },
  {
   "cell_type": "code",
   "execution_count": 3,
   "metadata": {},
   "outputs": [
    {
     "name": "stdout",
     "output_type": "stream",
     "text": [
      "Tests Passed\n"
     ]
    }
   ],
   "source": [
    "def normalize(x):\n",
    "    \"\"\"\n",
    "    Normalize a list of sample image data in the range of 0 to 1\n",
    "    : x: List of image data.  The image shape is (32, 32, 3)\n",
    "    : return: Numpy array of normalize data\n",
    "    \"\"\"\n",
    "    return (x - x.min())/(x.max()- x.min())\n",
    "\n",
    "\n",
    "\"\"\"\n",
    "DON'T MODIFY ANYTHING IN THIS CELL THAT IS BELOW THIS LINE\n",
    "\"\"\"\n",
    "tests.test_normalize(normalize)"
   ]
  },
  {
   "cell_type": "markdown",
   "metadata": {},
   "source": [
    "### One-hot encode\n",
    "Just like the previous code cell, you'll be implementing a function for preprocessing.  This time, you'll implement the `one_hot_encode` function. The input, `x`, are a list of labels.  Implement the function to return the list of labels as One-Hot encoded Numpy array.  The possible values for labels are 0 to 9. The one-hot encoding function should return the same encoding for each value between each call to `one_hot_encode`.  Make sure to save the map of encodings outside the function.\n",
    "\n",
    "Hint: Don't reinvent the wheel."
   ]
  },
  {
   "cell_type": "code",
   "execution_count": 4,
   "metadata": {},
   "outputs": [
    {
     "name": "stdout",
     "output_type": "stream",
     "text": [
      "Tests Passed\n"
     ]
    }
   ],
   "source": [
    "def one_hot_encode(x):\n",
    "    \"\"\"\n",
    "    One hot encode a list of sample labels. Return a one-hot encoded vector for each label.\n",
    "    : x: List of sample Labels\n",
    "    : return: Numpy array of one-hot encoded labels\n",
    "    \"\"\"\n",
    "    # TODO: Implement Function\n",
    "    import numpy as np\n",
    "#    xarr = np.asarray(x)\n",
    "#    one_hot = np.zeros((xarr.size, xarr.max()+1)) # size fo the one_hot array\n",
    "#    one_hot[np.arange(xarr.size),xarr] = 1 \n",
    "    #print(one_hot)\n",
    "    one_hot = np.zeros(shape=(len(x), 10))\n",
    "\n",
    "    for i in range(len(x)):\n",
    "        for j in range(10):\n",
    "            one_hot[i][j] = (j == x[i])\n",
    "    #print(one_hot)\n",
    "    return one_hot\n",
    "\n",
    "\n",
    "\"\"\"\n",
    "DON'T MODIFY ANYTHING IN THIS CELL THAT IS BELOW THIS LINE\n",
    "\"\"\"\n",
    "tests.test_one_hot_encode(one_hot_encode)"
   ]
  },
  {
   "cell_type": "markdown",
   "metadata": {},
   "source": [
    "### Randomize Data\n",
    "As you saw from exploring the data above, the order of the samples are randomized.  It doesn't hurt to randomize it again, but you don't need to for this dataset."
   ]
  },
  {
   "cell_type": "markdown",
   "metadata": {},
   "source": [
    "## Preprocess all the data and save it\n",
    "Running the code cell below will preprocess all the CIFAR-10 data and save it to file. The code below also uses 10% of the training data for validation."
   ]
  },
  {
   "cell_type": "code",
   "execution_count": 5,
   "metadata": {
    "collapsed": true
   },
   "outputs": [],
   "source": [
    "\"\"\"\n",
    "DON'T MODIFY ANYTHING IN THIS CELL\n",
    "\"\"\"\n",
    "# Preprocess Training, Validation, and Testing Data\n",
    "helper.preprocess_and_save_data(cifar10_dataset_folder_path, normalize, one_hot_encode)"
   ]
  },
  {
   "cell_type": "markdown",
   "metadata": {},
   "source": [
    "# Check Point\n",
    "This is your first checkpoint.  If you ever decide to come back to this notebook or have to restart the notebook, you can start from here.  The preprocessed data has been saved to disk."
   ]
  },
  {
   "cell_type": "code",
   "execution_count": 6,
   "metadata": {
    "collapsed": true
   },
   "outputs": [],
   "source": [
    "\"\"\"\n",
    "DON'T MODIFY ANYTHING IN THIS CELL\n",
    "\"\"\"\n",
    "import pickle\n",
    "import problem_unittests as tests\n",
    "import helper\n",
    "\n",
    "# Load the Preprocessed Validation data\n",
    "valid_features, valid_labels = pickle.load(open('preprocess_validation.p', mode='rb'))"
   ]
  },
  {
   "cell_type": "markdown",
   "metadata": {},
   "source": [
    "## Build the network\n",
    "For the neural network, you'll build each layer into a function.  Most of the code you've seen has been outside of functions. To test your code more thoroughly, we require that you put each layer in a function.  This allows us to give you better feedback and test for simple mistakes using our unittests before you submit your project.\n",
    "\n",
    ">**Note:** If you're finding it hard to dedicate enough time for this course each week, we've provided a small shortcut to this part of the project. In the next couple of problems, you'll have the option to use classes from the [TensorFlow Layers](https://www.tensorflow.org/api_docs/python/tf/layers) or [TensorFlow Layers (contrib)](https://www.tensorflow.org/api_guides/python/contrib.layers) packages to build each layer, except the layers you build in the \"Convolutional and Max Pooling Layer\" section.  TF Layers is similar to Keras's and TFLearn's abstraction to layers, so it's easy to pickup.\n",
    "\n",
    ">However, if you would like to get the most out of this course, try to solve all the problems _without_ using anything from the TF Layers packages. You **can** still use classes from other packages that happen to have the same name as ones you find in TF Layers! For example, instead of using the TF Layers version of the `conv2d` class, [tf.layers.conv2d](https://www.tensorflow.org/api_docs/python/tf/layers/conv2d), you would want to use the TF Neural Network version of `conv2d`, [tf.nn.conv2d](https://www.tensorflow.org/api_docs/python/tf/nn/conv2d). \n",
    "\n",
    "Let's begin!\n",
    "\n",
    "### Input\n",
    "The neural network needs to read the image data, one-hot encoded labels, and dropout keep probability. Implement the following functions\n",
    "* Implement `neural_net_image_input`\n",
    " * Return a [TF Placeholder](https://www.tensorflow.org/api_docs/python/tf/placeholder)\n",
    " * Set the shape using `image_shape` with batch size set to `None`.\n",
    " * Name the TensorFlow placeholder \"x\" using the TensorFlow `name` parameter in the [TF Placeholder](https://www.tensorflow.org/api_docs/python/tf/placeholder).\n",
    "* Implement `neural_net_label_input`\n",
    " * Return a [TF Placeholder](https://www.tensorflow.org/api_docs/python/tf/placeholder)\n",
    " * Set the shape using `n_classes` with batch size set to `None`.\n",
    " * Name the TensorFlow placeholder \"y\" using the TensorFlow `name` parameter in the [TF Placeholder](https://www.tensorflow.org/api_docs/python/tf/placeholder).\n",
    "* Implement `neural_net_keep_prob_input`\n",
    " * Return a [TF Placeholder](https://www.tensorflow.org/api_docs/python/tf/placeholder) for dropout keep probability.\n",
    " * Name the TensorFlow placeholder \"keep_prob\" using the TensorFlow `name` parameter in the [TF Placeholder](https://www.tensorflow.org/api_docs/python/tf/placeholder).\n",
    "\n",
    "These names will be used at the end of the project to load your saved model.\n",
    "\n",
    "Note: `None` for shapes in TensorFlow allow for a dynamic size."
   ]
  },
  {
   "cell_type": "code",
   "execution_count": 7,
   "metadata": {
    "scrolled": true
   },
   "outputs": [
    {
     "name": "stdout",
     "output_type": "stream",
     "text": [
      "Image Input Tests Passed.\n",
      "Label Input Tests Passed.\n",
      "Keep Prob Tests Passed.\n"
     ]
    }
   ],
   "source": [
    "import tensorflow as tf\n",
    "\n",
    "def neural_net_image_input(image_shape):\n",
    "    \"\"\"\n",
    "    Return a Tensor for a batch of image input\n",
    "    : image_shape: Shape of the images\n",
    "    : return: Tensor for image input.\n",
    "    \"\"\"\n",
    "    # TODO: Implement Function\n",
    "#    shape_input = [None,list(image_shape)]\n",
    "\n",
    "    return tf.placeholder(tf.float32, shape=[None, image_shape[0], image_shape[1], image_shape[2]],name = \"x\") \n",
    "\n",
    "\n",
    "def neural_net_label_input(n_classes):\n",
    "    \"\"\"\n",
    "    Return a Tensor for a batch of label input\n",
    "    : n_classes: Number of classes\n",
    "    : return: Tensor for label input.\n",
    "    \"\"\"\n",
    "    # TODO: Implement Function\n",
    "    return tf.placeholder(tf.float32, shape=[None,n_classes],name = \"y\")\n",
    "\n",
    "\n",
    "def neural_net_keep_prob_input():\n",
    "    \"\"\"\n",
    "    Return a Tensor for keep probability\n",
    "    : return: Tensor for keep probability.\n",
    "    \"\"\"\n",
    "    # TODO: Implement Function\n",
    "    return tf.placeholder(tf.float32, name = \"keep_prob\")\n",
    "\n",
    "\n",
    "\"\"\"\n",
    "DON'T MODIFY ANYTHING IN THIS CELL THAT IS BELOW THIS LINE\n",
    "\"\"\"\n",
    "tf.reset_default_graph()\n",
    "tests.test_nn_image_inputs(neural_net_image_input)\n",
    "tests.test_nn_label_inputs(neural_net_label_input)\n",
    "tests.test_nn_keep_prob_inputs(neural_net_keep_prob_input)"
   ]
  },
  {
   "cell_type": "markdown",
   "metadata": {},
   "source": [
    "### Convolution and Max Pooling Layer\n",
    "Convolution layers have a lot of success with images. For this code cell, you should implement the function `conv2d_maxpool` to apply convolution then max pooling:\n",
    "* Create the weight and bias using `conv_ksize`, `conv_num_outputs` and the shape of `x_tensor`.\n",
    "* Apply a convolution to `x_tensor` using weight and `conv_strides`.\n",
    " * We recommend you use same padding, but you're welcome to use any padding.\n",
    "* Add bias\n",
    "* Add a nonlinear activation to the convolution.\n",
    "* Apply Max Pooling using `pool_ksize` and `pool_strides`.\n",
    " * We recommend you use same padding, but you're welcome to use any padding.\n",
    "\n",
    "**Note:** You **can't** use [TensorFlow Layers](https://www.tensorflow.org/api_docs/python/tf/layers) or [TensorFlow Layers (contrib)](https://www.tensorflow.org/api_guides/python/contrib.layers) for **this** layer, but you can still use TensorFlow's [Neural Network](https://www.tensorflow.org/api_docs/python/tf/nn) package. You may still use the shortcut option for all the **other** layers."
   ]
  },
  {
   "cell_type": "code",
   "execution_count": 8,
   "metadata": {
    "scrolled": true
   },
   "outputs": [
    {
     "name": "stdout",
     "output_type": "stream",
     "text": [
      "Tests Passed\n"
     ]
    }
   ],
   "source": [
    "def conv2d_maxpool(x_tensor, conv_num_outputs, conv_ksize, conv_strides, pool_ksize, pool_strides):\n",
    "    \"\"\"\n",
    "    Apply convolution then max pooling to x_tensor\n",
    "    :param x_tensor: TensorFlow Tensor\n",
    "    :param conv_num_outputs: Number of outputs for the convolutional layer\n",
    "    :param conv_ksize: kernal size 2-D Tuple for the convolutional layer\n",
    "    :param conv_strides: Stride 2-D Tuple for convolution\n",
    "    :param pool_ksize: kernal size 2-D Tuple for pool\n",
    "    :param pool_strides: Stride 2-D Tuple for pool\n",
    "    : return: A tensor that represents convolution and max pooling of x_tensor\n",
    "    \"\"\"\n",
    "    # TODO: Implement Function\n",
    "    # Apply Convolution\n",
    "    # Weight and bias\n",
    "    import numpy as np\n",
    "    shape = x_tensor.get_shape().as_list()  \n",
    "    #print(shape)\n",
    "    filter_size_height, filter_size_width, color_channels, k_output = conv_ksize[0], conv_ksize[1], shape[3], conv_num_outputs\n",
    "    #print([filter_size_height, filter_size_width, color_channels, k_output])\n",
    "    weights = tf.Variable(tf.truncated_normal(\n",
    "        [filter_size_height, filter_size_width, color_channels, k_output],\n",
    "        mean=0.0,stddev= 0.1 )) # 1/np.sqrt(filter_size_height*shape[2]*shape[1])\n",
    "    # weights = tf.Variable(tf.truncated_normal([*conv_ksize, int(x_tensor.shape[3]), conv_num_outputs], mean=0.0, stddev=0.1, dtype=tf.float32))\n",
    "\n",
    "    bias = tf.Variable(tf.zeros(k_output))\n",
    "    \n",
    "    # Apply Convolution\n",
    "    conv_layer = tf.nn.conv2d(x_tensor, weights, strides=[1,conv_strides[0],conv_strides[1],1], padding='SAME')\n",
    "\n",
    "#conv_layer = tf.nn.conv2d(input, weight, strides=[1, 2, 2, 1], padding='SAME')\n",
    "    # Add bias\n",
    "    conv_layer = tf.nn.bias_add(conv_layer, bias)\n",
    "    # Apply activation function\n",
    "    conv_layer = tf.nn.relu(conv_layer)\n",
    "\n",
    "    # Apply Max Pooling\n",
    "    conv_layer = tf.nn.max_pool(\n",
    "        conv_layer,\n",
    "        ksize=[1, pool_ksize[0], pool_ksize[1], 1],\n",
    "        strides=[1, pool_strides[0], pool_strides[1], 1],\n",
    "        padding='SAME')\n",
    "\n",
    "    return conv_layer\n",
    "\n",
    "\"\"\"\n",
    "DON'T MODIFY ANYTHING IN THIS CELL THAT IS BELOW THIS LINE\n",
    "\"\"\"\n",
    "tests.test_con_pool(conv2d_maxpool)"
   ]
  },
  {
   "cell_type": "markdown",
   "metadata": {},
   "source": [
    "### Flatten Layer\n",
    "Implement the `flatten` function to change the dimension of `x_tensor` from a 4-D tensor to a 2-D tensor.  The output should be the shape (*Batch Size*, *Flattened Image Size*). Shortcut option: you can use classes from the [TensorFlow Layers](https://www.tensorflow.org/api_docs/python/tf/layers) or [TensorFlow Layers (contrib)](https://www.tensorflow.org/api_guides/python/contrib.layers) packages for this layer. For more of a challenge, only use other TensorFlow packages."
   ]
  },
  {
   "cell_type": "code",
   "execution_count": 9,
   "metadata": {},
   "outputs": [
    {
     "name": "stdout",
     "output_type": "stream",
     "text": [
      "Tests Passed\n"
     ]
    }
   ],
   "source": [
    "def flatten(x_tensor):\n",
    "    \"\"\"\n",
    "    Flatten x_tensor to (Batch Size, Flattened Image Size)\n",
    "    : x_tensor: A tensor of size (Batch Size, ...), where ... are the image dimensions.\n",
    "    : return: A tensor of size (Batch Size, Flattened Image Size).\n",
    "    \"\"\"\n",
    "    # TODO: Implement Function\n",
    "    import numpy as np\n",
    "    shape = x_tensor.get_shape().as_list()  \n",
    "    dim = np.prod(shape[1:])            \n",
    "#    print(dim)\n",
    "    return tf.reshape(x_tensor, [-1, dim]) \n",
    "\n",
    "\n",
    "\"\"\"\n",
    "DON'T MODIFY ANYTHING IN THIS CELL THAT IS BELOW THIS LINE\n",
    "\"\"\"\n",
    "tests.test_flatten(flatten)"
   ]
  },
  {
   "cell_type": "markdown",
   "metadata": {},
   "source": [
    "### Fully-Connected Layer\n",
    "Implement the `fully_conn` function to apply a fully connected layer to `x_tensor` with the shape (*Batch Size*, *num_outputs*). Shortcut option: you can use classes from the [TensorFlow Layers](https://www.tensorflow.org/api_docs/python/tf/layers) or [TensorFlow Layers (contrib)](https://www.tensorflow.org/api_guides/python/contrib.layers) packages for this layer. For more of a challenge, only use other TensorFlow packages."
   ]
  },
  {
   "cell_type": "code",
   "execution_count": 10,
   "metadata": {},
   "outputs": [
    {
     "name": "stdout",
     "output_type": "stream",
     "text": [
      "Tests Passed\n"
     ]
    }
   ],
   "source": [
    "def fully_conn(x_tensor, num_outputs):\n",
    "    \"\"\"\n",
    "    Apply a fully connected layer to x_tensor using weight and bias\n",
    "    : x_tensor: A 2-D tensor where the first dimension is batch size.\n",
    "    : num_outputs: The number of output that the new tensor should be.\n",
    "    : return: A 2-D tensor where the second dimension is num_outputs.\n",
    "    \"\"\"\n",
    "    # TODO: Implement Function\n",
    "    shape = x_tensor.get_shape().as_list()  \n",
    "    \n",
    "    weights = tf.Variable(tf.truncated_normal(\n",
    "        [shape[1],num_outputs], mean = 0.0, stddev = 0.1))\n",
    "    bias = tf.Variable(tf.zeros(num_outputs))\n",
    "    \n",
    "    # Apply \n",
    "    fcl = tf.add(tf.matmul(x_tensor, weights), bias)\n",
    "    # tf.matmul(x_tensor, weight) + bias\n",
    "    return tf.nn.relu(fcl)  \n",
    "\n",
    "\n",
    "\"\"\"\n",
    "DON'T MODIFY ANYTHING IN THIS CELL THAT IS BELOW THIS LINE\n",
    "\"\"\"\n",
    "tests.test_fully_conn(fully_conn)"
   ]
  },
  {
   "cell_type": "markdown",
   "metadata": {},
   "source": [
    "### Output Layer\n",
    "Implement the `output` function to apply a fully connected layer to `x_tensor` with the shape (*Batch Size*, *num_outputs*). Shortcut option: you can use classes from the [TensorFlow Layers](https://www.tensorflow.org/api_docs/python/tf/layers) or [TensorFlow Layers (contrib)](https://www.tensorflow.org/api_guides/python/contrib.layers) packages for this layer. For more of a challenge, only use other TensorFlow packages.\n",
    "\n",
    "**Note:** Activation, softmax, or cross entropy should **not** be applied to this."
   ]
  },
  {
   "cell_type": "code",
   "execution_count": 11,
   "metadata": {},
   "outputs": [
    {
     "name": "stdout",
     "output_type": "stream",
     "text": [
      "Tests Passed\n"
     ]
    }
   ],
   "source": [
    "def output(x_tensor, num_outputs):\n",
    "    \"\"\"\n",
    "    Apply a output layer to x_tensor using weight and bias\n",
    "    : x_tensor: A 2-D tensor where the first dimension is batch size.\n",
    "    : num_outputs: The number of output that the new tensor should be.\n",
    "    : return: A 2-D tensor where the second dimension is num_outputs.\n",
    "    \"\"\"\n",
    "    # TODO: Implement Function\n",
    "    shape = x_tensor.get_shape().as_list()  \n",
    "\n",
    "    weights = tf.Variable(tf.truncated_normal(\n",
    "        [shape[1],num_outputs], mean = 0.0, stddev = 0.1))\n",
    "    bias = tf.Variable(tf.zeros(num_outputs))\n",
    "    \n",
    "    # Apply \n",
    "    return  tf.add(tf.matmul(x_tensor, weights),bias)\n",
    "\n",
    "\"\"\"\n",
    "DON'T MODIFY ANYTHING IN THIS CELL THAT IS BELOW THIS LINE\n",
    "\"\"\"\n",
    "tests.test_output(output)"
   ]
  },
  {
   "cell_type": "markdown",
   "metadata": {},
   "source": [
    "### Create Convolutional Model\n",
    "Implement the function `conv_net` to create a convolutional neural network model. The function takes in a batch of images, `x`, and outputs logits.  Use the layers you created above to create this model:\n",
    "\n",
    "* Apply 1, 2, or 3 Convolution and Max Pool layers\n",
    "* Apply a Flatten Layer\n",
    "* Apply 1, 2, or 3 Fully Connected Layers\n",
    "* Apply an Output Layer\n",
    "* Return the output\n",
    "* Apply [TensorFlow's Dropout](https://www.tensorflow.org/api_docs/python/tf/nn/dropout) to one or more layers in the model using `keep_prob`. "
   ]
  },
  {
   "cell_type": "code",
   "execution_count": 12,
   "metadata": {},
   "outputs": [
    {
     "name": "stdout",
     "output_type": "stream",
     "text": [
      "Neural Network Built!\n"
     ]
    }
   ],
   "source": [
    "def conv_net(x, keep_prob):\n",
    "    \"\"\"\n",
    "    Create a convolutional neural network model\n",
    "    : x: Placeholder tensor that holds image data.\n",
    "    : keep_prob: Placeholder tensor that hold dropout keep probability.\n",
    "    : return: Tensor that represents logits\n",
    "    \"\"\"\n",
    "    # TODO: Apply 1, 2, or 3 Convolution and Max Pool layers\n",
    "    #    Play around with different number of outputs, kernel size and stride\n",
    "    # Function Definition from Above:\n",
    "    #    conv2d_maxpool(x_tensor, conv_num_outputs, conv_ksize, conv_strides, pool_ksize, pool_strides)\n",
    "    #shape = x.get_shape().as_list()\n",
    "    #print(shape)\n",
    "    conv_num_outputs, conv_ksize, conv_strides, pool_ksize, pool_strides = 16, (3,3), (1,1),(2,2),(2,2)\n",
    "    fc_num_outputs = 64\n",
    "    num_outputs = 10\n",
    "    # conv1\n",
    "    hidden_layer = conv2d_maxpool(x, conv_num_outputs, conv_ksize, conv_strides, pool_ksize, pool_strides)\n",
    "    # dropout 1\n",
    "    hidden_layer = tf.nn.dropout(hidden_layer,keep_prob)\n",
    "    # conv2\n",
    "    hidden_layer = conv2d_maxpool(hidden_layer, conv_num_outputs*2, conv_ksize, conv_strides, pool_ksize, pool_strides)\n",
    "\n",
    "    # TODO: Apply a Flatten Layer\n",
    "    # Function Definition from Above:\n",
    "    #   flatten(x_tensor)\n",
    "    hidden_layer = flatten(hidden_layer)\n",
    "\n",
    "    # TODO: Apply 1, 2, or 3 Fully Connected Layers\n",
    "    #    Play around with different number of outputs\n",
    "    # Function Definition from Above:\n",
    "    #   fully_conn(x_tensor, num_outputs)\n",
    "    # fully connected 1\n",
    "    hidden_fc_layer = fully_conn(hidden_layer,fc_num_outputs)\n",
    "    # drop out 2\n",
    "#    hidden_fc_layer = tf.nn.dropout(hidden_fc_layer,keep_prob)\n",
    "    # fully connected 2\n",
    "    hidden_fc_layer = fully_conn(hidden_fc_layer,fc_num_outputs)\n",
    "    \n",
    "    # TODO: Apply an Output Layer\n",
    "    #    Set this to the number of classes\n",
    "    # Function Definition from Above:\n",
    "    #   output(x_tensor, num_outputs)\n",
    "    output_layer = output(hidden_fc_layer,num_outputs)\n",
    "    \n",
    "    # TODO: return output\n",
    "    return output_layer\n",
    "\n",
    "\n",
    "\"\"\"\n",
    "DON'T MODIFY ANYTHING IN THIS CELL THAT IS BELOW THIS LINE\n",
    "\"\"\"\n",
    "\n",
    "##############################\n",
    "## Build the Neural Network ##\n",
    "##############################\n",
    "\n",
    "# Remove previous weights, bias, inputs, etc..\n",
    "tf.reset_default_graph()\n",
    "\n",
    "# Inputs\n",
    "x = neural_net_image_input((32, 32, 3))\n",
    "y = neural_net_label_input(10)\n",
    "keep_prob = neural_net_keep_prob_input()\n",
    "\n",
    "# Model\n",
    "logits = conv_net(x, keep_prob)\n",
    "\n",
    "# Name logits Tensor, so that is can be loaded from disk after training\n",
    "logits = tf.identity(logits, name='logits')\n",
    "\n",
    "# Loss and Optimizer\n",
    "cost = tf.reduce_mean(tf.nn.softmax_cross_entropy_with_logits(logits=logits, labels=y))\n",
    "optimizer = tf.train.AdamOptimizer().minimize(cost)\n",
    "\n",
    "# Accuracy\n",
    "correct_pred = tf.equal(tf.argmax(logits, 1), tf.argmax(y, 1))\n",
    "accuracy = tf.reduce_mean(tf.cast(correct_pred, tf.float32), name='accuracy')\n",
    "\n",
    "tests.test_conv_net(conv_net)"
   ]
  },
  {
   "cell_type": "markdown",
   "metadata": {},
   "source": [
    "## Train the Neural Network\n",
    "### Single Optimization\n",
    "Implement the function `train_neural_network` to do a single optimization.  The optimization should use `optimizer` to optimize in `session` with a `feed_dict` of the following:\n",
    "* `x` for image input\n",
    "* `y` for labels\n",
    "* `keep_prob` for keep probability for dropout\n",
    "\n",
    "This function will be called for each batch, so `tf.global_variables_initializer()` has already been called.\n",
    "\n",
    "Note: Nothing needs to be returned. This function is only optimizing the neural network."
   ]
  },
  {
   "cell_type": "code",
   "execution_count": 13,
   "metadata": {},
   "outputs": [
    {
     "name": "stdout",
     "output_type": "stream",
     "text": [
      "Tests Passed\n"
     ]
    }
   ],
   "source": [
    "def train_neural_network(session, optimizer, keep_probability, feature_batch, label_batch):\n",
    "    \"\"\"\n",
    "    Optimize the session on a batch of images and labels\n",
    "    : session: Current TensorFlow session\n",
    "    : optimizer: TensorFlow optimizer function\n",
    "    : keep_probability: keep probability\n",
    "    : feature_batch: Batch of Numpy image data\n",
    "    : label_batch: Batch of Numpy label data\n",
    "    \"\"\"\n",
    "    # TODO: Implement Function\n",
    "    session.run(optimizer, feed_dict={\n",
    "            x: feature_batch,\n",
    "            y: label_batch,\n",
    "            keep_prob: keep_probability})\n",
    "\n",
    "\n",
    "\"\"\"\n",
    "DON'T MODIFY ANYTHING IN THIS CELL THAT IS BELOW THIS LINE\n",
    "\"\"\"\n",
    "tests.test_train_nn(train_neural_network)"
   ]
  },
  {
   "cell_type": "markdown",
   "metadata": {},
   "source": [
    "### Show Stats\n",
    "Implement the function `print_stats` to print loss and validation accuracy.  Use the global variables `valid_features` and `valid_labels` to calculate validation accuracy.  Use a keep probability of `1.0` to calculate the loss and validation accuracy."
   ]
  },
  {
   "cell_type": "code",
   "execution_count": 14,
   "metadata": {
    "collapsed": true
   },
   "outputs": [],
   "source": [
    "def print_stats(session, feature_batch, label_batch, cost, accuracy):\n",
    "    \"\"\"\n",
    "    Print information about loss and validation accuracy\n",
    "    : session: Current TensorFlow session\n",
    "    : feature_batch: Batch of Numpy image data\n",
    "    : label_batch: Batch of Numpy label data\n",
    "    : cost: TensorFlow cost function\n",
    "    : accuracy: TensorFlow accuracy function\n",
    "    \"\"\"\n",
    "    # TODO: Implement Function\n",
    "    loss = session.run(cost, feed_dict={\n",
    "       x: feature_batch,\n",
    "       y: label_batch,\n",
    "       keep_prob: 1.0})\n",
    "    \n",
    "    valid_acc = session.run(accuracy, feed_dict={\n",
    "                x: valid_features,\n",
    "                y: valid_labels,\n",
    "                keep_prob: 1.0})\n",
    "            \n",
    "    print('Loss: {:>10.4f} Validation Accuracy: {:.6f}'.format(\n",
    "                loss,\n",
    "                valid_acc))"
   ]
  },
  {
   "cell_type": "markdown",
   "metadata": {},
   "source": [
    "### Hyperparameters\n",
    "Tune the following parameters:\n",
    "* Set `epochs` to the number of iterations until the network stops learning or start overfitting\n",
    "* Set `batch_size` to the highest number that your machine has memory for.  Most people set them to common sizes of memory:\n",
    " * 64\n",
    " * 128\n",
    " * 256\n",
    " * ...\n",
    "* Set `keep_probability` to the probability of keeping a node using dropout"
   ]
  },
  {
   "cell_type": "code",
   "execution_count": 16,
   "metadata": {
    "collapsed": true
   },
   "outputs": [],
   "source": [
    "# TODO: Tune Parameters\n",
    "epochs = 50 # 20000\n",
    "batch_size = 1024 #256 # 64, 128, 256, 512, 1024\n",
    "keep_probability = 0.7"
   ]
  },
  {
   "cell_type": "markdown",
   "metadata": {},
   "source": [
    "### Train on a Single CIFAR-10 Batch\n",
    "Instead of training the neural network on all the CIFAR-10 batches of data, let's use a single batch. This should save time while you iterate on the model to get a better accuracy.  Once the final validation accuracy is 50% or greater, run the model on all the data in the next section."
   ]
  },
  {
   "cell_type": "code",
   "execution_count": 17,
   "metadata": {},
   "outputs": [
    {
     "name": "stdout",
     "output_type": "stream",
     "text": [
      "Checking the Training on a Single Batch...\n",
      "Epoch  1, CIFAR-10 Batch 1:  Loss:     2.2659 Validation Accuracy: 0.148600\n",
      "Epoch  2, CIFAR-10 Batch 1:  Loss:     2.2057 Validation Accuracy: 0.181800\n",
      "Epoch  3, CIFAR-10 Batch 1:  Loss:     2.1408 Validation Accuracy: 0.184800\n",
      "Epoch  4, CIFAR-10 Batch 1:  Loss:     2.1273 Validation Accuracy: 0.195200\n",
      "Epoch  5, CIFAR-10 Batch 1:  Loss:     2.0808 Validation Accuracy: 0.223000\n",
      "Epoch  6, CIFAR-10 Batch 1:  Loss:     1.9864 Validation Accuracy: 0.272800\n",
      "Epoch  7, CIFAR-10 Batch 1:  Loss:     1.9907 Validation Accuracy: 0.260000\n",
      "Epoch  8, CIFAR-10 Batch 1:  Loss:     1.9276 Validation Accuracy: 0.286800\n",
      "Epoch  9, CIFAR-10 Batch 1:  Loss:     1.8878 Validation Accuracy: 0.295400\n",
      "Epoch 10, CIFAR-10 Batch 1:  Loss:     1.8695 Validation Accuracy: 0.307600\n",
      "Epoch 11, CIFAR-10 Batch 1:  Loss:     1.8619 Validation Accuracy: 0.315400\n",
      "Epoch 12, CIFAR-10 Batch 1:  Loss:     1.8078 Validation Accuracy: 0.333000\n",
      "Epoch 13, CIFAR-10 Batch 1:  Loss:     1.7548 Validation Accuracy: 0.354400\n",
      "Epoch 14, CIFAR-10 Batch 1:  Loss:     1.6977 Validation Accuracy: 0.381600\n",
      "Epoch 15, CIFAR-10 Batch 1:  Loss:     1.6674 Validation Accuracy: 0.387000\n",
      "Epoch 16, CIFAR-10 Batch 1:  Loss:     1.6679 Validation Accuracy: 0.381400\n",
      "Epoch 17, CIFAR-10 Batch 1:  Loss:     1.6601 Validation Accuracy: 0.387600\n",
      "Epoch 18, CIFAR-10 Batch 1:  Loss:     1.6150 Validation Accuracy: 0.401400\n",
      "Epoch 19, CIFAR-10 Batch 1:  Loss:     1.5958 Validation Accuracy: 0.411200\n",
      "Epoch 20, CIFAR-10 Batch 1:  Loss:     1.5729 Validation Accuracy: 0.416200\n",
      "Epoch 21, CIFAR-10 Batch 1:  Loss:     1.5842 Validation Accuracy: 0.409600\n",
      "Epoch 22, CIFAR-10 Batch 1:  Loss:     1.5606 Validation Accuracy: 0.419600\n",
      "Epoch 23, CIFAR-10 Batch 1:  Loss:     1.5404 Validation Accuracy: 0.423200\n",
      "Epoch 24, CIFAR-10 Batch 1:  Loss:     1.5332 Validation Accuracy: 0.419600\n",
      "Epoch 25, CIFAR-10 Batch 1:  Loss:     1.5033 Validation Accuracy: 0.436000\n",
      "Epoch 26, CIFAR-10 Batch 1:  Loss:     1.4927 Validation Accuracy: 0.433000\n",
      "Epoch 27, CIFAR-10 Batch 1:  Loss:     1.4699 Validation Accuracy: 0.442200\n",
      "Epoch 28, CIFAR-10 Batch 1:  Loss:     1.4571 Validation Accuracy: 0.444600\n",
      "Epoch 29, CIFAR-10 Batch 1:  Loss:     1.4421 Validation Accuracy: 0.450200\n",
      "Epoch 30, CIFAR-10 Batch 1:  Loss:     1.4383 Validation Accuracy: 0.452000\n",
      "Epoch 31, CIFAR-10 Batch 1:  Loss:     1.4260 Validation Accuracy: 0.455400\n",
      "Epoch 32, CIFAR-10 Batch 1:  Loss:     1.4065 Validation Accuracy: 0.462400\n",
      "Epoch 33, CIFAR-10 Batch 1:  Loss:     1.3950 Validation Accuracy: 0.463600\n",
      "Epoch 34, CIFAR-10 Batch 1:  Loss:     1.3770 Validation Accuracy: 0.467400\n",
      "Epoch 35, CIFAR-10 Batch 1:  Loss:     1.3816 Validation Accuracy: 0.465400\n",
      "Epoch 36, CIFAR-10 Batch 1:  Loss:     1.3504 Validation Accuracy: 0.473600\n",
      "Epoch 37, CIFAR-10 Batch 1:  Loss:     1.3383 Validation Accuracy: 0.468600\n",
      "Epoch 38, CIFAR-10 Batch 1:  Loss:     1.3196 Validation Accuracy: 0.476800\n",
      "Epoch 39, CIFAR-10 Batch 1:  Loss:     1.3047 Validation Accuracy: 0.483000\n",
      "Epoch 40, CIFAR-10 Batch 1:  Loss:     1.2919 Validation Accuracy: 0.487400\n",
      "Epoch 41, CIFAR-10 Batch 1:  Loss:     1.2836 Validation Accuracy: 0.482000\n",
      "Epoch 42, CIFAR-10 Batch 1:  Loss:     1.2716 Validation Accuracy: 0.487400\n",
      "Epoch 43, CIFAR-10 Batch 1:  Loss:     1.2565 Validation Accuracy: 0.494000\n",
      "Epoch 44, CIFAR-10 Batch 1:  Loss:     1.2411 Validation Accuracy: 0.498000\n",
      "Epoch 45, CIFAR-10 Batch 1:  Loss:     1.2395 Validation Accuracy: 0.494200\n",
      "Epoch 46, CIFAR-10 Batch 1:  Loss:     1.2186 Validation Accuracy: 0.498400\n",
      "Epoch 47, CIFAR-10 Batch 1:  Loss:     1.2129 Validation Accuracy: 0.499000\n",
      "Epoch 48, CIFAR-10 Batch 1:  Loss:     1.2028 Validation Accuracy: 0.501200\n",
      "Epoch 49, CIFAR-10 Batch 1:  Loss:     1.1905 Validation Accuracy: 0.504600\n",
      "Epoch 50, CIFAR-10 Batch 1:  Loss:     1.1797 Validation Accuracy: 0.508400\n"
     ]
    }
   ],
   "source": [
    "\"\"\"\n",
    "DON'T MODIFY ANYTHING IN THIS CELL\n",
    "\"\"\"\n",
    "print('Checking the Training on a Single Batch...')\n",
    "with tf.Session() as sess:\n",
    "    # Initializing the variables\n",
    "    sess.run(tf.global_variables_initializer())\n",
    "    \n",
    "    # Training cycle\n",
    "    for epoch in range(epochs):\n",
    "        batch_i = 1\n",
    "        for batch_features, batch_labels in helper.load_preprocess_training_batch(batch_i, batch_size):\n",
    "            train_neural_network(sess, optimizer, keep_probability, batch_features, batch_labels)\n",
    "        print('Epoch {:>2}, CIFAR-10 Batch {}:  '.format(epoch + 1, batch_i), end='')\n",
    "        print_stats(sess, batch_features, batch_labels, cost, accuracy)"
   ]
  },
  {
   "cell_type": "markdown",
   "metadata": {},
   "source": [
    "### Fully Train the Model\n",
    "Now that you got a good accuracy with a single CIFAR-10 batch, try it with all five batches."
   ]
  },
  {
   "cell_type": "code",
   "execution_count": 18,
   "metadata": {},
   "outputs": [
    {
     "name": "stdout",
     "output_type": "stream",
     "text": [
      "Training...\n",
      "Epoch  1, CIFAR-10 Batch 1:  Loss:     2.2761 Validation Accuracy: 0.166200\n",
      "Epoch  1, CIFAR-10 Batch 2:  Loss:     2.2119 Validation Accuracy: 0.209800\n",
      "Epoch  1, CIFAR-10 Batch 3:  Loss:     2.0911 Validation Accuracy: 0.243000\n",
      "Epoch  1, CIFAR-10 Batch 4:  Loss:     2.0026 Validation Accuracy: 0.273400\n",
      "Epoch  1, CIFAR-10 Batch 5:  Loss:     2.0051 Validation Accuracy: 0.240200\n",
      "Epoch  2, CIFAR-10 Batch 1:  Loss:     1.9869 Validation Accuracy: 0.275000\n",
      "Epoch  2, CIFAR-10 Batch 2:  Loss:     1.9108 Validation Accuracy: 0.285000\n",
      "Epoch  2, CIFAR-10 Batch 3:  Loss:     1.8357 Validation Accuracy: 0.330600\n",
      "Epoch  2, CIFAR-10 Batch 4:  Loss:     1.7869 Validation Accuracy: 0.335800\n",
      "Epoch  2, CIFAR-10 Batch 5:  Loss:     1.8264 Validation Accuracy: 0.336200\n",
      "Epoch  3, CIFAR-10 Batch 1:  Loss:     1.7960 Validation Accuracy: 0.353600\n",
      "Epoch  3, CIFAR-10 Batch 2:  Loss:     1.7460 Validation Accuracy: 0.359200\n",
      "Epoch  3, CIFAR-10 Batch 3:  Loss:     1.6791 Validation Accuracy: 0.382200\n",
      "Epoch  3, CIFAR-10 Batch 4:  Loss:     1.6567 Validation Accuracy: 0.386400\n",
      "Epoch  3, CIFAR-10 Batch 5:  Loss:     1.6764 Validation Accuracy: 0.395000\n",
      "Epoch  4, CIFAR-10 Batch 1:  Loss:     1.6819 Validation Accuracy: 0.395600\n",
      "Epoch  4, CIFAR-10 Batch 2:  Loss:     1.6186 Validation Accuracy: 0.407000\n",
      "Epoch  4, CIFAR-10 Batch 3:  Loss:     1.5671 Validation Accuracy: 0.417800\n",
      "Epoch  4, CIFAR-10 Batch 4:  Loss:     1.5662 Validation Accuracy: 0.417200\n",
      "Epoch  4, CIFAR-10 Batch 5:  Loss:     1.5835 Validation Accuracy: 0.425400\n",
      "Epoch  5, CIFAR-10 Batch 1:  Loss:     1.5665 Validation Accuracy: 0.435000\n",
      "Epoch  5, CIFAR-10 Batch 2:  Loss:     1.5494 Validation Accuracy: 0.430000\n",
      "Epoch  5, CIFAR-10 Batch 3:  Loss:     1.4920 Validation Accuracy: 0.446800\n",
      "Epoch  5, CIFAR-10 Batch 4:  Loss:     1.4849 Validation Accuracy: 0.452800\n",
      "Epoch  5, CIFAR-10 Batch 5:  Loss:     1.5073 Validation Accuracy: 0.449000\n",
      "Epoch  6, CIFAR-10 Batch 1:  Loss:     1.4743 Validation Accuracy: 0.468200\n",
      "Epoch  6, CIFAR-10 Batch 2:  Loss:     1.4651 Validation Accuracy: 0.465000\n",
      "Epoch  6, CIFAR-10 Batch 3:  Loss:     1.4132 Validation Accuracy: 0.471600\n",
      "Epoch  6, CIFAR-10 Batch 4:  Loss:     1.4109 Validation Accuracy: 0.481200\n",
      "Epoch  6, CIFAR-10 Batch 5:  Loss:     1.4197 Validation Accuracy: 0.487000\n",
      "Epoch  7, CIFAR-10 Batch 1:  Loss:     1.4174 Validation Accuracy: 0.479400\n",
      "Epoch  7, CIFAR-10 Batch 2:  Loss:     1.4119 Validation Accuracy: 0.485800\n",
      "Epoch  7, CIFAR-10 Batch 3:  Loss:     1.3448 Validation Accuracy: 0.496800\n",
      "Epoch  7, CIFAR-10 Batch 4:  Loss:     1.3504 Validation Accuracy: 0.497000\n",
      "Epoch  7, CIFAR-10 Batch 5:  Loss:     1.3560 Validation Accuracy: 0.506000\n",
      "Epoch  8, CIFAR-10 Batch 1:  Loss:     1.3574 Validation Accuracy: 0.499600\n",
      "Epoch  8, CIFAR-10 Batch 2:  Loss:     1.3710 Validation Accuracy: 0.508400\n",
      "Epoch  8, CIFAR-10 Batch 3:  Loss:     1.2994 Validation Accuracy: 0.517600\n",
      "Epoch  8, CIFAR-10 Batch 4:  Loss:     1.2942 Validation Accuracy: 0.517000\n",
      "Epoch  8, CIFAR-10 Batch 5:  Loss:     1.3085 Validation Accuracy: 0.522600\n",
      "Epoch  9, CIFAR-10 Batch 1:  Loss:     1.3212 Validation Accuracy: 0.512800\n",
      "Epoch  9, CIFAR-10 Batch 2:  Loss:     1.3270 Validation Accuracy: 0.522600\n",
      "Epoch  9, CIFAR-10 Batch 3:  Loss:     1.2642 Validation Accuracy: 0.526800\n",
      "Epoch  9, CIFAR-10 Batch 4:  Loss:     1.2594 Validation Accuracy: 0.528200\n",
      "Epoch  9, CIFAR-10 Batch 5:  Loss:     1.2732 Validation Accuracy: 0.536000\n",
      "Epoch 10, CIFAR-10 Batch 1:  Loss:     1.2911 Validation Accuracy: 0.527800\n",
      "Epoch 10, CIFAR-10 Batch 2:  Loss:     1.2980 Validation Accuracy: 0.535600\n",
      "Epoch 10, CIFAR-10 Batch 3:  Loss:     1.2359 Validation Accuracy: 0.529200\n",
      "Epoch 10, CIFAR-10 Batch 4:  Loss:     1.2253 Validation Accuracy: 0.539400\n",
      "Epoch 10, CIFAR-10 Batch 5:  Loss:     1.2478 Validation Accuracy: 0.540400\n",
      "Epoch 11, CIFAR-10 Batch 1:  Loss:     1.2677 Validation Accuracy: 0.536200\n",
      "Epoch 11, CIFAR-10 Batch 2:  Loss:     1.2580 Validation Accuracy: 0.547000\n",
      "Epoch 11, CIFAR-10 Batch 3:  Loss:     1.2312 Validation Accuracy: 0.527400\n",
      "Epoch 11, CIFAR-10 Batch 4:  Loss:     1.1990 Validation Accuracy: 0.552200\n",
      "Epoch 11, CIFAR-10 Batch 5:  Loss:     1.2027 Validation Accuracy: 0.551200\n",
      "Epoch 12, CIFAR-10 Batch 1:  Loss:     1.2401 Validation Accuracy: 0.540800\n",
      "Epoch 12, CIFAR-10 Batch 2:  Loss:     1.2355 Validation Accuracy: 0.553000\n",
      "Epoch 12, CIFAR-10 Batch 3:  Loss:     1.1910 Validation Accuracy: 0.543200\n",
      "Epoch 12, CIFAR-10 Batch 4:  Loss:     1.1672 Validation Accuracy: 0.561400\n",
      "Epoch 12, CIFAR-10 Batch 5:  Loss:     1.1824 Validation Accuracy: 0.556800\n",
      "Epoch 13, CIFAR-10 Batch 1:  Loss:     1.2058 Validation Accuracy: 0.552000\n",
      "Epoch 13, CIFAR-10 Batch 2:  Loss:     1.2066 Validation Accuracy: 0.558200\n",
      "Epoch 13, CIFAR-10 Batch 3:  Loss:     1.1734 Validation Accuracy: 0.547600\n",
      "Epoch 13, CIFAR-10 Batch 4:  Loss:     1.1390 Validation Accuracy: 0.568600\n",
      "Epoch 13, CIFAR-10 Batch 5:  Loss:     1.1602 Validation Accuracy: 0.561000\n",
      "Epoch 14, CIFAR-10 Batch 1:  Loss:     1.1896 Validation Accuracy: 0.556200\n",
      "Epoch 14, CIFAR-10 Batch 2:  Loss:     1.1708 Validation Accuracy: 0.572800\n",
      "Epoch 14, CIFAR-10 Batch 3:  Loss:     1.1494 Validation Accuracy: 0.557000\n",
      "Epoch 14, CIFAR-10 Batch 4:  Loss:     1.1116 Validation Accuracy: 0.578200\n",
      "Epoch 14, CIFAR-10 Batch 5:  Loss:     1.1200 Validation Accuracy: 0.572400\n",
      "Epoch 15, CIFAR-10 Batch 1:  Loss:     1.1574 Validation Accuracy: 0.564200\n",
      "Epoch 15, CIFAR-10 Batch 2:  Loss:     1.1613 Validation Accuracy: 0.571200\n",
      "Epoch 15, CIFAR-10 Batch 3:  Loss:     1.1358 Validation Accuracy: 0.563800\n",
      "Epoch 15, CIFAR-10 Batch 4:  Loss:     1.0850 Validation Accuracy: 0.585400\n",
      "Epoch 15, CIFAR-10 Batch 5:  Loss:     1.1048 Validation Accuracy: 0.575600\n",
      "Epoch 16, CIFAR-10 Batch 1:  Loss:     1.1453 Validation Accuracy: 0.572400\n",
      "Epoch 16, CIFAR-10 Batch 2:  Loss:     1.1308 Validation Accuracy: 0.583200\n",
      "Epoch 16, CIFAR-10 Batch 3:  Loss:     1.1143 Validation Accuracy: 0.570200\n",
      "Epoch 16, CIFAR-10 Batch 4:  Loss:     1.0695 Validation Accuracy: 0.588400\n",
      "Epoch 16, CIFAR-10 Batch 5:  Loss:     1.0895 Validation Accuracy: 0.578000\n",
      "Epoch 17, CIFAR-10 Batch 1:  Loss:     1.1372 Validation Accuracy: 0.574200\n",
      "Epoch 17, CIFAR-10 Batch 2:  Loss:     1.1114 Validation Accuracy: 0.584600\n",
      "Epoch 17, CIFAR-10 Batch 3:  Loss:     1.0951 Validation Accuracy: 0.573800\n",
      "Epoch 17, CIFAR-10 Batch 4:  Loss:     1.0441 Validation Accuracy: 0.596200\n",
      "Epoch 17, CIFAR-10 Batch 5:  Loss:     1.0646 Validation Accuracy: 0.582800\n",
      "Epoch 18, CIFAR-10 Batch 1:  Loss:     1.1200 Validation Accuracy: 0.577400\n",
      "Epoch 18, CIFAR-10 Batch 2:  Loss:     1.0987 Validation Accuracy: 0.586600\n",
      "Epoch 18, CIFAR-10 Batch 3:  Loss:     1.0831 Validation Accuracy: 0.578000\n",
      "Epoch 18, CIFAR-10 Batch 4:  Loss:     1.0288 Validation Accuracy: 0.597800\n",
      "Epoch 18, CIFAR-10 Batch 5:  Loss:     1.0454 Validation Accuracy: 0.589000\n",
      "Epoch 19, CIFAR-10 Batch 1:  Loss:     1.0904 Validation Accuracy: 0.584800\n",
      "Epoch 19, CIFAR-10 Batch 2:  Loss:     1.0664 Validation Accuracy: 0.593400\n",
      "Epoch 19, CIFAR-10 Batch 3:  Loss:     1.0536 Validation Accuracy: 0.591600\n",
      "Epoch 19, CIFAR-10 Batch 4:  Loss:     0.9996 Validation Accuracy: 0.604400\n",
      "Epoch 19, CIFAR-10 Batch 5:  Loss:     1.0203 Validation Accuracy: 0.601600\n",
      "Epoch 20, CIFAR-10 Batch 1:  Loss:     1.0713 Validation Accuracy: 0.592000\n",
      "Epoch 20, CIFAR-10 Batch 2:  Loss:     1.0733 Validation Accuracy: 0.593000\n",
      "Epoch 20, CIFAR-10 Batch 3:  Loss:     1.0593 Validation Accuracy: 0.589000\n",
      "Epoch 20, CIFAR-10 Batch 4:  Loss:     0.9879 Validation Accuracy: 0.603200\n",
      "Epoch 20, CIFAR-10 Batch 5:  Loss:     1.0203 Validation Accuracy: 0.597600\n",
      "Epoch 21, CIFAR-10 Batch 1:  Loss:     1.0873 Validation Accuracy: 0.584400\n",
      "Epoch 21, CIFAR-10 Batch 2:  Loss:     1.0628 Validation Accuracy: 0.594600\n",
      "Epoch 21, CIFAR-10 Batch 3:  Loss:     1.0242 Validation Accuracy: 0.594800\n",
      "Epoch 21, CIFAR-10 Batch 4:  Loss:     0.9764 Validation Accuracy: 0.604400\n",
      "Epoch 21, CIFAR-10 Batch 5:  Loss:     1.0138 Validation Accuracy: 0.599400\n",
      "Epoch 22, CIFAR-10 Batch 1:  Loss:     1.0765 Validation Accuracy: 0.591400\n",
      "Epoch 22, CIFAR-10 Batch 2:  Loss:     1.0184 Validation Accuracy: 0.607000\n",
      "Epoch 22, CIFAR-10 Batch 3:  Loss:     0.9955 Validation Accuracy: 0.603600\n"
     ]
    },
    {
     "name": "stdout",
     "output_type": "stream",
     "text": [
      "Epoch 22, CIFAR-10 Batch 4:  Loss:     0.9618 Validation Accuracy: 0.613200\n",
      "Epoch 22, CIFAR-10 Batch 5:  Loss:     1.0137 Validation Accuracy: 0.591600\n",
      "Epoch 23, CIFAR-10 Batch 1:  Loss:     1.0467 Validation Accuracy: 0.598600\n",
      "Epoch 23, CIFAR-10 Batch 2:  Loss:     1.0015 Validation Accuracy: 0.611800\n",
      "Epoch 23, CIFAR-10 Batch 3:  Loss:     0.9755 Validation Accuracy: 0.608000\n",
      "Epoch 23, CIFAR-10 Batch 4:  Loss:     0.9699 Validation Accuracy: 0.603200\n",
      "Epoch 23, CIFAR-10 Batch 5:  Loss:     0.9955 Validation Accuracy: 0.595800\n",
      "Epoch 24, CIFAR-10 Batch 1:  Loss:     1.0314 Validation Accuracy: 0.601800\n",
      "Epoch 24, CIFAR-10 Batch 2:  Loss:     0.9813 Validation Accuracy: 0.618600\n",
      "Epoch 24, CIFAR-10 Batch 3:  Loss:     0.9674 Validation Accuracy: 0.613600\n",
      "Epoch 24, CIFAR-10 Batch 4:  Loss:     0.9543 Validation Accuracy: 0.609200\n",
      "Epoch 24, CIFAR-10 Batch 5:  Loss:     0.9830 Validation Accuracy: 0.599600\n",
      "Epoch 25, CIFAR-10 Batch 1:  Loss:     0.9992 Validation Accuracy: 0.611600\n",
      "Epoch 25, CIFAR-10 Batch 2:  Loss:     0.9679 Validation Accuracy: 0.621000\n",
      "Epoch 25, CIFAR-10 Batch 3:  Loss:     0.9693 Validation Accuracy: 0.610800\n",
      "Epoch 25, CIFAR-10 Batch 4:  Loss:     0.9355 Validation Accuracy: 0.616800\n",
      "Epoch 25, CIFAR-10 Batch 5:  Loss:     0.9685 Validation Accuracy: 0.602400\n",
      "Epoch 26, CIFAR-10 Batch 1:  Loss:     0.9911 Validation Accuracy: 0.613800\n",
      "Epoch 26, CIFAR-10 Batch 2:  Loss:     0.9540 Validation Accuracy: 0.623400\n",
      "Epoch 26, CIFAR-10 Batch 3:  Loss:     0.9589 Validation Accuracy: 0.611200\n",
      "Epoch 26, CIFAR-10 Batch 4:  Loss:     0.9354 Validation Accuracy: 0.615000\n",
      "Epoch 26, CIFAR-10 Batch 5:  Loss:     0.9532 Validation Accuracy: 0.608600\n",
      "Epoch 27, CIFAR-10 Batch 1:  Loss:     0.9753 Validation Accuracy: 0.617000\n",
      "Epoch 27, CIFAR-10 Batch 2:  Loss:     0.9519 Validation Accuracy: 0.623200\n",
      "Epoch 27, CIFAR-10 Batch 3:  Loss:     0.9489 Validation Accuracy: 0.615600\n",
      "Epoch 27, CIFAR-10 Batch 4:  Loss:     0.9133 Validation Accuracy: 0.625800\n",
      "Epoch 27, CIFAR-10 Batch 5:  Loss:     0.9428 Validation Accuracy: 0.609600\n",
      "Epoch 28, CIFAR-10 Batch 1:  Loss:     0.9873 Validation Accuracy: 0.615600\n",
      "Epoch 28, CIFAR-10 Batch 2:  Loss:     0.9504 Validation Accuracy: 0.627200\n",
      "Epoch 28, CIFAR-10 Batch 3:  Loss:     0.9336 Validation Accuracy: 0.618200\n",
      "Epoch 28, CIFAR-10 Batch 4:  Loss:     0.9018 Validation Accuracy: 0.628200\n",
      "Epoch 28, CIFAR-10 Batch 5:  Loss:     0.9438 Validation Accuracy: 0.610600\n",
      "Epoch 29, CIFAR-10 Batch 1:  Loss:     0.9514 Validation Accuracy: 0.622800\n",
      "Epoch 29, CIFAR-10 Batch 2:  Loss:     0.9373 Validation Accuracy: 0.630200\n",
      "Epoch 29, CIFAR-10 Batch 3:  Loss:     0.9157 Validation Accuracy: 0.624800\n",
      "Epoch 29, CIFAR-10 Batch 4:  Loss:     0.8957 Validation Accuracy: 0.629800\n",
      "Epoch 29, CIFAR-10 Batch 5:  Loss:     0.9389 Validation Accuracy: 0.610800\n",
      "Epoch 30, CIFAR-10 Batch 1:  Loss:     0.9534 Validation Accuracy: 0.625000\n",
      "Epoch 30, CIFAR-10 Batch 2:  Loss:     0.9187 Validation Accuracy: 0.636200\n",
      "Epoch 30, CIFAR-10 Batch 3:  Loss:     0.9250 Validation Accuracy: 0.621800\n",
      "Epoch 30, CIFAR-10 Batch 4:  Loss:     0.8919 Validation Accuracy: 0.630000\n",
      "Epoch 30, CIFAR-10 Batch 5:  Loss:     0.9149 Validation Accuracy: 0.618400\n",
      "Epoch 31, CIFAR-10 Batch 1:  Loss:     0.9343 Validation Accuracy: 0.629800\n",
      "Epoch 31, CIFAR-10 Batch 2:  Loss:     0.9124 Validation Accuracy: 0.639000\n",
      "Epoch 31, CIFAR-10 Batch 3:  Loss:     0.9020 Validation Accuracy: 0.627000\n",
      "Epoch 31, CIFAR-10 Batch 4:  Loss:     0.8826 Validation Accuracy: 0.633600\n",
      "Epoch 31, CIFAR-10 Batch 5:  Loss:     0.8966 Validation Accuracy: 0.621800\n",
      "Epoch 32, CIFAR-10 Batch 1:  Loss:     0.9342 Validation Accuracy: 0.634800\n",
      "Epoch 32, CIFAR-10 Batch 2:  Loss:     0.9082 Validation Accuracy: 0.640000\n",
      "Epoch 32, CIFAR-10 Batch 3:  Loss:     0.8879 Validation Accuracy: 0.630800\n",
      "Epoch 32, CIFAR-10 Batch 4:  Loss:     0.8697 Validation Accuracy: 0.633200\n",
      "Epoch 32, CIFAR-10 Batch 5:  Loss:     0.8787 Validation Accuracy: 0.627400\n",
      "Epoch 33, CIFAR-10 Batch 1:  Loss:     0.9031 Validation Accuracy: 0.639200\n",
      "Epoch 33, CIFAR-10 Batch 2:  Loss:     0.8972 Validation Accuracy: 0.640800\n",
      "Epoch 33, CIFAR-10 Batch 3:  Loss:     0.8848 Validation Accuracy: 0.633600\n",
      "Epoch 33, CIFAR-10 Batch 4:  Loss:     0.8545 Validation Accuracy: 0.639800\n",
      "Epoch 33, CIFAR-10 Batch 5:  Loss:     0.8872 Validation Accuracy: 0.622200\n",
      "Epoch 34, CIFAR-10 Batch 1:  Loss:     0.8965 Validation Accuracy: 0.640600\n",
      "Epoch 34, CIFAR-10 Batch 2:  Loss:     0.8914 Validation Accuracy: 0.645400\n",
      "Epoch 34, CIFAR-10 Batch 3:  Loss:     0.8788 Validation Accuracy: 0.635000\n",
      "Epoch 34, CIFAR-10 Batch 4:  Loss:     0.8637 Validation Accuracy: 0.636200\n",
      "Epoch 34, CIFAR-10 Batch 5:  Loss:     0.8628 Validation Accuracy: 0.637000\n",
      "Epoch 35, CIFAR-10 Batch 1:  Loss:     0.8996 Validation Accuracy: 0.644000\n",
      "Epoch 35, CIFAR-10 Batch 2:  Loss:     0.8806 Validation Accuracy: 0.643800\n",
      "Epoch 35, CIFAR-10 Batch 3:  Loss:     0.8630 Validation Accuracy: 0.641600\n",
      "Epoch 35, CIFAR-10 Batch 4:  Loss:     0.8426 Validation Accuracy: 0.641600\n",
      "Epoch 35, CIFAR-10 Batch 5:  Loss:     0.8618 Validation Accuracy: 0.629600\n",
      "Epoch 36, CIFAR-10 Batch 1:  Loss:     0.8963 Validation Accuracy: 0.639200\n",
      "Epoch 36, CIFAR-10 Batch 2:  Loss:     0.8682 Validation Accuracy: 0.651400\n",
      "Epoch 36, CIFAR-10 Batch 3:  Loss:     0.8448 Validation Accuracy: 0.645400\n",
      "Epoch 36, CIFAR-10 Batch 4:  Loss:     0.8441 Validation Accuracy: 0.640000\n",
      "Epoch 36, CIFAR-10 Batch 5:  Loss:     0.8480 Validation Accuracy: 0.637600\n",
      "Epoch 37, CIFAR-10 Batch 1:  Loss:     0.8856 Validation Accuracy: 0.643600\n",
      "Epoch 37, CIFAR-10 Batch 2:  Loss:     0.8604 Validation Accuracy: 0.652400\n",
      "Epoch 37, CIFAR-10 Batch 3:  Loss:     0.8355 Validation Accuracy: 0.645600\n",
      "Epoch 37, CIFAR-10 Batch 4:  Loss:     0.8429 Validation Accuracy: 0.640600\n",
      "Epoch 37, CIFAR-10 Batch 5:  Loss:     0.8396 Validation Accuracy: 0.641800\n",
      "Epoch 38, CIFAR-10 Batch 1:  Loss:     0.8598 Validation Accuracy: 0.653400\n",
      "Epoch 38, CIFAR-10 Batch 2:  Loss:     0.8536 Validation Accuracy: 0.656600\n",
      "Epoch 38, CIFAR-10 Batch 3:  Loss:     0.8362 Validation Accuracy: 0.648200\n",
      "Epoch 38, CIFAR-10 Batch 4:  Loss:     0.8275 Validation Accuracy: 0.644800\n",
      "Epoch 38, CIFAR-10 Batch 5:  Loss:     0.8361 Validation Accuracy: 0.638200\n",
      "Epoch 39, CIFAR-10 Batch 1:  Loss:     0.8618 Validation Accuracy: 0.654200\n",
      "Epoch 39, CIFAR-10 Batch 2:  Loss:     0.8658 Validation Accuracy: 0.649200\n",
      "Epoch 39, CIFAR-10 Batch 3:  Loss:     0.8142 Validation Accuracy: 0.652000\n",
      "Epoch 39, CIFAR-10 Batch 4:  Loss:     0.8256 Validation Accuracy: 0.648600\n",
      "Epoch 39, CIFAR-10 Batch 5:  Loss:     0.8354 Validation Accuracy: 0.639200\n",
      "Epoch 40, CIFAR-10 Batch 1:  Loss:     0.8531 Validation Accuracy: 0.655200\n",
      "Epoch 40, CIFAR-10 Batch 2:  Loss:     0.8552 Validation Accuracy: 0.653000\n",
      "Epoch 40, CIFAR-10 Batch 3:  Loss:     0.8212 Validation Accuracy: 0.648000\n",
      "Epoch 40, CIFAR-10 Batch 4:  Loss:     0.8116 Validation Accuracy: 0.647800\n",
      "Epoch 40, CIFAR-10 Batch 5:  Loss:     0.8063 Validation Accuracy: 0.653000\n",
      "Epoch 41, CIFAR-10 Batch 1:  Loss:     0.8511 Validation Accuracy: 0.653600\n",
      "Epoch 41, CIFAR-10 Batch 2:  Loss:     0.8587 Validation Accuracy: 0.649400\n",
      "Epoch 41, CIFAR-10 Batch 3:  Loss:     0.8203 Validation Accuracy: 0.645800\n",
      "Epoch 41, CIFAR-10 Batch 4:  Loss:     0.8300 Validation Accuracy: 0.643200\n",
      "Epoch 41, CIFAR-10 Batch 5:  Loss:     0.7898 Validation Accuracy: 0.656000\n",
      "Epoch 42, CIFAR-10 Batch 1:  Loss:     0.8399 Validation Accuracy: 0.654200\n",
      "Epoch 42, CIFAR-10 Batch 2:  Loss:     0.8464 Validation Accuracy: 0.653400\n",
      "Epoch 42, CIFAR-10 Batch 3:  Loss:     0.7965 Validation Accuracy: 0.653600\n",
      "Epoch 42, CIFAR-10 Batch 4:  Loss:     0.8332 Validation Accuracy: 0.640200\n",
      "Epoch 42, CIFAR-10 Batch 5:  Loss:     0.7795 Validation Accuracy: 0.657600\n",
      "Epoch 43, CIFAR-10 Batch 1:  Loss:     0.8444 Validation Accuracy: 0.652400\n",
      "Epoch 43, CIFAR-10 Batch 2:  Loss:     0.8313 Validation Accuracy: 0.660200\n",
      "Epoch 43, CIFAR-10 Batch 3:  Loss:     0.7901 Validation Accuracy: 0.657400\n",
      "Epoch 43, CIFAR-10 Batch 4:  Loss:     0.8045 Validation Accuracy: 0.649000\n",
      "Epoch 43, CIFAR-10 Batch 5:  Loss:     0.7796 Validation Accuracy: 0.656200\n",
      "Epoch 44, CIFAR-10 Batch 1:  Loss:     0.8208 Validation Accuracy: 0.658800\n"
     ]
    },
    {
     "name": "stdout",
     "output_type": "stream",
     "text": [
      "Epoch 44, CIFAR-10 Batch 2:  Loss:     0.8313 Validation Accuracy: 0.654200\n",
      "Epoch 44, CIFAR-10 Batch 3:  Loss:     0.7871 Validation Accuracy: 0.654200\n",
      "Epoch 44, CIFAR-10 Batch 4:  Loss:     0.8047 Validation Accuracy: 0.650000\n",
      "Epoch 44, CIFAR-10 Batch 5:  Loss:     0.7695 Validation Accuracy: 0.657000\n",
      "Epoch 45, CIFAR-10 Batch 1:  Loss:     0.8173 Validation Accuracy: 0.657400\n",
      "Epoch 45, CIFAR-10 Batch 2:  Loss:     0.8341 Validation Accuracy: 0.654800\n",
      "Epoch 45, CIFAR-10 Batch 3:  Loss:     0.7763 Validation Accuracy: 0.659600\n",
      "Epoch 45, CIFAR-10 Batch 4:  Loss:     0.7954 Validation Accuracy: 0.649600\n",
      "Epoch 45, CIFAR-10 Batch 5:  Loss:     0.7633 Validation Accuracy: 0.660400\n",
      "Epoch 46, CIFAR-10 Batch 1:  Loss:     0.8188 Validation Accuracy: 0.660200\n",
      "Epoch 46, CIFAR-10 Batch 2:  Loss:     0.8148 Validation Accuracy: 0.662000\n",
      "Epoch 46, CIFAR-10 Batch 3:  Loss:     0.7763 Validation Accuracy: 0.657800\n",
      "Epoch 46, CIFAR-10 Batch 4:  Loss:     0.7955 Validation Accuracy: 0.648600\n",
      "Epoch 46, CIFAR-10 Batch 5:  Loss:     0.7558 Validation Accuracy: 0.659200\n",
      "Epoch 47, CIFAR-10 Batch 1:  Loss:     0.8095 Validation Accuracy: 0.664200\n",
      "Epoch 47, CIFAR-10 Batch 2:  Loss:     0.8118 Validation Accuracy: 0.659400\n",
      "Epoch 47, CIFAR-10 Batch 3:  Loss:     0.7557 Validation Accuracy: 0.665600\n",
      "Epoch 47, CIFAR-10 Batch 4:  Loss:     0.8092 Validation Accuracy: 0.644200\n",
      "Epoch 47, CIFAR-10 Batch 5:  Loss:     0.7463 Validation Accuracy: 0.663800\n",
      "Epoch 48, CIFAR-10 Batch 1:  Loss:     0.8030 Validation Accuracy: 0.661400\n",
      "Epoch 48, CIFAR-10 Batch 2:  Loss:     0.8067 Validation Accuracy: 0.659200\n",
      "Epoch 48, CIFAR-10 Batch 3:  Loss:     0.7466 Validation Accuracy: 0.669800\n",
      "Epoch 48, CIFAR-10 Batch 4:  Loss:     0.7918 Validation Accuracy: 0.649200\n",
      "Epoch 48, CIFAR-10 Batch 5:  Loss:     0.7395 Validation Accuracy: 0.663000\n",
      "Epoch 49, CIFAR-10 Batch 1:  Loss:     0.8021 Validation Accuracy: 0.661000\n",
      "Epoch 49, CIFAR-10 Batch 2:  Loss:     0.7983 Validation Accuracy: 0.659800\n",
      "Epoch 49, CIFAR-10 Batch 3:  Loss:     0.7508 Validation Accuracy: 0.663200\n",
      "Epoch 49, CIFAR-10 Batch 4:  Loss:     0.7819 Validation Accuracy: 0.648800\n",
      "Epoch 49, CIFAR-10 Batch 5:  Loss:     0.7337 Validation Accuracy: 0.668000\n",
      "Epoch 50, CIFAR-10 Batch 1:  Loss:     0.8002 Validation Accuracy: 0.662600\n",
      "Epoch 50, CIFAR-10 Batch 2:  Loss:     0.7842 Validation Accuracy: 0.671600\n",
      "Epoch 50, CIFAR-10 Batch 3:  Loss:     0.7487 Validation Accuracy: 0.663000\n",
      "Epoch 50, CIFAR-10 Batch 4:  Loss:     0.7475 Validation Accuracy: 0.658800\n",
      "Epoch 50, CIFAR-10 Batch 5:  Loss:     0.7334 Validation Accuracy: 0.663400\n"
     ]
    }
   ],
   "source": [
    "\"\"\"\n",
    "DON'T MODIFY ANYTHING IN THIS CELL\n",
    "\"\"\"\n",
    "save_model_path = './image_classification'\n",
    "\n",
    "print('Training...')\n",
    "with tf.Session() as sess:\n",
    "    # Initializing the variables\n",
    "    sess.run(tf.global_variables_initializer())\n",
    "    \n",
    "    # Training cycle\n",
    "    for epoch in range(epochs):\n",
    "        # Loop over all batches\n",
    "        n_batches = 5\n",
    "        for batch_i in range(1, n_batches + 1):\n",
    "            for batch_features, batch_labels in helper.load_preprocess_training_batch(batch_i, batch_size):\n",
    "                train_neural_network(sess, optimizer, keep_probability, batch_features, batch_labels)\n",
    "            print('Epoch {:>2}, CIFAR-10 Batch {}:  '.format(epoch + 1, batch_i), end='')\n",
    "            print_stats(sess, batch_features, batch_labels, cost, accuracy)\n",
    "            \n",
    "    # Save Model\n",
    "    saver = tf.train.Saver()\n",
    "    save_path = saver.save(sess, save_model_path)"
   ]
  },
  {
   "cell_type": "markdown",
   "metadata": {},
   "source": [
    "# Checkpoint\n",
    "The model has been saved to disk.\n",
    "## Test Model\n",
    "Test your model against the test dataset.  This will be your final accuracy. You should have an accuracy greater than 50%. If you don't, keep tweaking the model architecture and parameters."
   ]
  },
  {
   "cell_type": "code",
   "execution_count": 19,
   "metadata": {},
   "outputs": [
    {
     "name": "stdout",
     "output_type": "stream",
     "text": [
      "INFO:tensorflow:Restoring parameters from ./image_classification\n",
      "Testing Accuracy: 0.6657724797725677\n",
      "\n"
     ]
    },
    {
     "data": {
      "image/png": "[encoded data removed]",
      "text/plain": [
       "<matplotlib.figure.Figure at 0x7f380c5a0898>"
      ]
     },
     "metadata": {
      "image/png": {
       "height": 319,
       "width": 355
      }
     },
     "output_type": "display_data"
    }
   ],
   "source": [
    "\"\"\"\n",
    "DON'T MODIFY ANYTHING IN THIS CELL\n",
    "\"\"\"\n",
    "%matplotlib inline\n",
    "%config InlineBackend.figure_format = 'retina'\n",
    "\n",
    "import tensorflow as tf\n",
    "import pickle\n",
    "import helper\n",
    "import random\n",
    "\n",
    "# Set batch size if not already set\n",
    "try:\n",
    "    if batch_size:\n",
    "        pass\n",
    "except NameError:\n",
    "    batch_size = 64\n",
    "\n",
    "save_model_path = './image_classification'\n",
    "n_samples = 4\n",
    "top_n_predictions = 3\n",
    "\n",
    "def test_model():\n",
    "    \"\"\"\n",
    "    Test the saved model against the test dataset\n",
    "    \"\"\"\n",
    "\n",
    "    test_features, test_labels = pickle.load(open('preprocess_test.p', mode='rb'))\n",
    "    loaded_graph = tf.Graph()\n",
    "\n",
    "    with tf.Session(graph=loaded_graph) as sess:\n",
    "        # Load model\n",
    "        loader = tf.train.import_meta_graph(save_model_path + '.meta')\n",
    "        loader.restore(sess, save_model_path)\n",
    "\n",
    "        # Get Tensors from loaded model\n",
    "        loaded_x = loaded_graph.get_tensor_by_name('x:0')\n",
    "        loaded_y = loaded_graph.get_tensor_by_name('y:0')\n",
    "        loaded_keep_prob = loaded_graph.get_tensor_by_name('keep_prob:0')\n",
    "        loaded_logits = loaded_graph.get_tensor_by_name('logits:0')\n",
    "        loaded_acc = loaded_graph.get_tensor_by_name('accuracy:0')\n",
    "        \n",
    "        # Get accuracy in batches for memory limitations\n",
    "        test_batch_acc_total = 0\n",
    "        test_batch_count = 0\n",
    "        \n",
    "        for test_feature_batch, test_label_batch in helper.batch_features_labels(test_features, test_labels, batch_size):\n",
    "            test_batch_acc_total += sess.run(\n",
    "                loaded_acc,\n",
    "                feed_dict={loaded_x: test_feature_batch, loaded_y: test_label_batch, loaded_keep_prob: 1.0})\n",
    "            test_batch_count += 1\n",
    "\n",
    "        print('Testing Accuracy: {}\\n'.format(test_batch_acc_total/test_batch_count))\n",
    "\n",
    "        # Print Random Samples\n",
    "        random_test_features, random_test_labels = tuple(zip(*random.sample(list(zip(test_features, test_labels)), n_samples)))\n",
    "        random_test_predictions = sess.run(\n",
    "            tf.nn.top_k(tf.nn.softmax(loaded_logits), top_n_predictions),\n",
    "            feed_dict={loaded_x: random_test_features, loaded_y: random_test_labels, loaded_keep_prob: 1.0})\n",
    "        helper.display_image_predictions(random_test_features, random_test_labels, random_test_predictions)\n",
    "\n",
    "\n",
    "test_model()"
   ]
  },
  {
   "cell_type": "markdown",
   "metadata": {},
   "source": [
    "## Why 50-80% Accuracy?\n",
    "You might be wondering why you can't get an accuracy any higher. First things first, 50% isn't bad for a simple CNN.  Pure guessing would get you 10% accuracy. However, you might notice people are getting scores [well above 80%](http://rodrigob.github.io/are_we_there_yet/build/classification_datasets_results.html#43494641522d3130).  That's because we haven't taught you all there is to know about neural networks. We still need to cover a few more techniques.\n",
    "## Submitting This Project\n",
    "When submitting this project, make sure to run all the cells before saving the notebook.  Save the notebook file as \"dlnd_image_classification.ipynb\" and save it as a HTML file under \"File\" -> \"Download as\".  Include the \"helper.py\" and \"problem_unittests.py\" files in your submission."
   ]
  }
 ],
 "metadata": {
  "kernelspec": {
   "display_name": "Python 3",
   "language": "python",
   "name": "python3"
  },
  "language_info": {
   "codemirror_mode": {
    "name": "ipython",
    "version": 3
   },
   "file_extension": ".py",
   "mimetype": "text/x-python",
   "name": "python",
   "nbconvert_exporter": "python",
   "pygments_lexer": "ipython3",
   "version": "3.5.3"
  }
 },
 "nbformat": 4,
 "nbformat_minor": 1
}
