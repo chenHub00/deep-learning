{
 "cells": [
  {
   "cell_type": "markdown",
   "metadata": {
    "collapsed": true
   },
   "source": [
    "# Language Translation\n",
    "In this project, you’re going to take a peek into the realm of neural network machine translation.  You’ll be training a sequence to sequence model on a dataset of English and French sentences that can translate new sentences from English to French.\n",
    "## Get the Data\n",
    "Since translating the whole language of English to French will take lots of time to train, we have provided you with a small portion of the English corpus."
   ]
  },
  {
   "cell_type": "code",
   "execution_count": 2,
   "metadata": {
    "collapsed": true
   },
   "outputs": [],
   "source": [
    "\"\"\"\n",
    "DON'T MODIFY ANYTHING IN THIS CELL\n",
    "\"\"\"\n",
    "import helper\n",
    "import problem_unittests as tests\n",
    "\n",
    "source_path = 'data/small_vocab_en'\n",
    "target_path = 'data/small_vocab_fr'\n",
    "source_text = helper.load_data(source_path)\n",
    "target_text = helper.load_data(target_path)"
   ]
  },
  {
   "cell_type": "markdown",
   "metadata": {},
   "source": [
    "## Explore the Data\n",
    "Play around with view_sentence_range to view different parts of the data."
   ]
  },
  {
   "cell_type": "code",
   "execution_count": 4,
   "metadata": {},
   "outputs": [
    {
     "name": "stdout",
     "output_type": "stream",
     "text": [
      "Dataset Stats\n",
      "Roughly the number of unique words: 227\n",
      "Number of sentences: 137861\n",
      "Average number of words in a sentence: 13.225277634719028\n",
      "\n",
      "English sentences 0 to 10:\n",
      "new jersey is sometimes quiet during autumn , and it is snowy in april .\n",
      "the united states is usually chilly during july , and it is usually freezing in november .\n",
      "california is usually quiet during march , and it is usually hot in june .\n",
      "the united states is sometimes mild during june , and it is cold in september .\n",
      "your least liked fruit is the grape , but my least liked is the apple .\n",
      "his favorite fruit is the orange , but my favorite is the grape .\n",
      "paris is relaxing during december , but it is usually chilly in july .\n",
      "new jersey is busy during spring , and it is never hot in march .\n",
      "our least liked fruit is the lemon , but my least liked is the grape .\n",
      "the united states is sometimes busy during january , and it is sometimes warm in november .\n",
      "\n",
      "French sentences 0 to 10:\n",
      "new jersey est parfois calme pendant l' automne , et il est neigeux en avril .\n",
      "les états-unis est généralement froid en juillet , et il gèle habituellement en novembre .\n",
      "california est généralement calme en mars , et il est généralement chaud en juin .\n",
      "les états-unis est parfois légère en juin , et il fait froid en septembre .\n",
      "votre moins aimé fruit est le raisin , mais mon moins aimé est la pomme .\n",
      "son fruit préféré est l'orange , mais mon préféré est le raisin .\n",
      "paris est relaxant en décembre , mais il est généralement froid en juillet .\n",
      "new jersey est occupé au printemps , et il est jamais chaude en mars .\n",
      "notre fruit est moins aimé le citron , mais mon moins aimé est le raisin .\n",
      "les états-unis est parfois occupé en janvier , et il est parfois chaud en novembre .\n"
     ]
    }
   ],
   "source": [
    "view_sentence_range = (0, 10)\n",
    "\n",
    "\"\"\"\n",
    "DON'T MODIFY ANYTHING IN THIS CELL\n",
    "\"\"\"\n",
    "import numpy as np\n",
    "\n",
    "print('Dataset Stats')\n",
    "print('Roughly the number of unique words: {}'.format(len({word: None for word in source_text.split()})))\n",
    "\n",
    "sentences = source_text.split('\\n')\n",
    "word_counts = [len(sentence.split()) for sentence in sentences]\n",
    "print('Number of sentences: {}'.format(len(sentences)))\n",
    "print('Average number of words in a sentence: {}'.format(np.average(word_counts)))\n",
    "\n",
    "print()\n",
    "print('English sentences {} to {}:'.format(*view_sentence_range))\n",
    "print('\\n'.join(source_text.split('\\n')[view_sentence_range[0]:view_sentence_range[1]]))\n",
    "print()\n",
    "print('French sentences {} to {}:'.format(*view_sentence_range))\n",
    "print('\\n'.join(target_text.split('\\n')[view_sentence_range[0]:view_sentence_range[1]]))"
   ]
  },
  {
   "cell_type": "markdown",
   "metadata": {},
   "source": [
    "## Implement Preprocessing Function\n",
    "### Text to Word Ids\n",
    "As you did with other RNNs, you must turn the text into a number so the computer can understand it. In the function `text_to_ids()`, you'll turn `source_text` and `target_text` from words to ids.  However, you need to add the `<EOS>` word id at the end of `target_text`.  This will help the neural network predict when the sentence should end.\n",
    "\n",
    "You can get the `<EOS>` word id by doing:\n",
    "```python\n",
    "target_vocab_to_int['<EOS>']\n",
    "```\n",
    "You can get other word ids using `source_vocab_to_int` and `target_vocab_to_int`."
   ]
  },
  {
   "cell_type": "code",
   "execution_count": 5,
   "metadata": {},
   "outputs": [
    {
     "name": "stdout",
     "output_type": "stream",
     "text": [
      "Tests Passed\n"
     ]
    }
   ],
   "source": [
    "def text_to_ids(source_text, target_text, source_vocab_to_int, target_vocab_to_int):\n",
    "    \"\"\"\n",
    "    Convert source and target text to proper word ids\n",
    "    :param source_text: String that contains all the source text.\n",
    "    :param target_text: String that contains all the target text.\n",
    "    :param source_vocab_to_int: Dictionary to go from the source words to an id\n",
    "    :param target_vocab_to_int: Dictionary to go from the target words to an id\n",
    "    :return: A tuple of lists (source_id_text, target_id_text)\n",
    "    \"\"\"\n",
    "    # TODO: Implement Function\n",
    "    # makes a list with each sentence\n",
    "    # to have correct length\n",
    "    tst = source_text.split('\\n')\n",
    "    ntst = [x.split() for x in tst]\n",
    "\n",
    "    # FROM HERE\n",
    "    # \n",
    "    source_id_text = []\n",
    "    for elem in ntst:\n",
    "#         elem.append('<EOS>')\n",
    "        source_id_text.append([source_vocab_to_int[x] for x in elem])\n",
    "    \n",
    "    # makes a list with each sentence\n",
    "    ttt = target_text.split('\\n')\n",
    "    nttt = [x.split() for x in ttt]\n",
    "\n",
    "    # FROM HERE\n",
    "    target_id_text = []\n",
    "    for elem in nttt:\n",
    "        elem.append('<EOS>')\n",
    "        target_id_text.append([target_vocab_to_int[x] for x in elem])\n",
    "    \n",
    "    return source_id_text, target_id_text\n",
    "\n",
    "\"\"\"\n",
    "DON'T MODIFY ANYTHING IN THIS CELL THAT IS BELOW THIS LINE\n",
    "\"\"\"\n",
    "tests.test_text_to_ids(text_to_ids)"
   ]
  },
  {
   "cell_type": "markdown",
   "metadata": {},
   "source": [
    "### Preprocess all the data and save it\n",
    "Running the code cell below will preprocess all the data and save it to file."
   ]
  },
  {
   "cell_type": "code",
   "execution_count": 6,
   "metadata": {
    "collapsed": true
   },
   "outputs": [],
   "source": [
    "\"\"\"\n",
    "DON'T MODIFY ANYTHING IN THIS CELL\n",
    "\"\"\"\n",
    "helper.preprocess_and_save_data(source_path, target_path, text_to_ids)"
   ]
  },
  {
   "cell_type": "markdown",
   "metadata": {},
   "source": [
    "# Check Point\n",
    "This is your first checkpoint. If you ever decide to come back to this notebook or have to restart the notebook, you can start from here. The preprocessed data has been saved to disk."
   ]
  },
  {
   "cell_type": "code",
   "execution_count": 7,
   "metadata": {},
   "outputs": [],
   "source": [
    "\"\"\"\n",
    "DON'T MODIFY ANYTHING IN THIS CELL\n",
    "\"\"\"\n",
    "import numpy as np\n",
    "import helper\n",
    "import problem_unittests as tests\n",
    "\n",
    "(source_int_text, target_int_text), (source_vocab_to_int, target_vocab_to_int), _ = helper.load_preprocess()"
   ]
  },
  {
   "cell_type": "markdown",
   "metadata": {},
   "source": [
    "### Check the Version of TensorFlow and Access to GPU\n",
    "This will check to make sure you have the correct version of TensorFlow and access to a GPU"
   ]
  },
  {
   "cell_type": "code",
   "execution_count": 8,
   "metadata": {},
   "outputs": [
    {
     "name": "stdout",
     "output_type": "stream",
     "text": [
      "TensorFlow Version: 1.1.0\n"
     ]
    },
    {
     "name": "stderr",
     "output_type": "stream",
     "text": [
      "/home/chen/.conda/envs/tensorflow11/lib/python3.5/site-packages/ipykernel_launcher.py:15: UserWarning: No GPU found. Please use a GPU to train your neural network.\n",
      "  from ipykernel import kernelapp as app\n"
     ]
    }
   ],
   "source": [
    "\"\"\"\n",
    "DON'T MODIFY ANYTHING IN THIS CELL\n",
    "\"\"\"\n",
    "from distutils.version import LooseVersion\n",
    "import warnings\n",
    "import tensorflow as tf\n",
    "from tensorflow.python.layers.core import Dense\n",
    "\n",
    "# Check TensorFlow Version\n",
    "assert LooseVersion(tf.__version__) >= LooseVersion('1.1'), 'Please use TensorFlow version 1.1 or newer'\n",
    "print('TensorFlow Version: {}'.format(tf.__version__))\n",
    "\n",
    "# Check for a GPU\n",
    "if not tf.test.gpu_device_name():\n",
    "    warnings.warn('No GPU found. Please use a GPU to train your neural network.')\n",
    "else:\n",
    "    print('Default GPU Device: {}'.format(tf.test.gpu_device_name()))"
   ]
  },
  {
   "cell_type": "markdown",
   "metadata": {},
   "source": [
    "## Build the Neural Network\n",
    "You'll build the components necessary to build a Sequence-to-Sequence model by implementing the following functions below:\n",
    "- `model_inputs`\n",
    "- `process_decoder_input`\n",
    "- `encoding_layer`\n",
    "- `decoding_layer_train`\n",
    "- `decoding_layer_infer`\n",
    "- `decoding_layer`\n",
    "- `seq2seq_model`\n",
    "\n",
    "### Input\n",
    "Implement the `model_inputs()` function to create TF Placeholders for the Neural Network. It should create the following placeholders:\n",
    "\n",
    "- Input text placeholder named \"input\" using the TF Placeholder name parameter with rank 2.\n",
    "- Targets placeholder with rank 2.\n",
    "- Learning rate placeholder with rank 0.\n",
    "- Keep probability placeholder named \"keep_prob\" using the TF Placeholder name parameter with rank 0.\n",
    "- Target sequence length placeholder named \"target_sequence_length\" with rank 1\n",
    "- Max target sequence length tensor named \"max_target_len\" getting its value from applying tf.reduce_max on the target_sequence_length placeholder. Rank 0.\n",
    "- Source sequence length placeholder named \"source_sequence_length\" with rank 1\n",
    "\n",
    "Return the placeholders in the following the tuple (input, targets, learning rate, keep probability, target sequence length, max target sequence length, source sequence length)"
   ]
  },
  {
   "cell_type": "code",
   "execution_count": 9,
   "metadata": {},
   "outputs": [
    {
     "name": "stdout",
     "output_type": "stream",
     "text": [
      "Tests Passed\n"
     ]
    }
   ],
   "source": [
    "def model_inputs():\n",
    "    \"\"\"\n",
    "    Create TF Placeholders for input, targets, learning rate, and lengths of source and target sequences.\n",
    "    :return: Tuple (input, targets, learning rate, keep probability, target sequence length,\n",
    "    max target sequence length, source sequence length)\n",
    "    \"\"\"\n",
    "    # TODO: Implement Function\n",
    "    input_d = tf.placeholder(tf.int32,[None,None],name='input')\n",
    "    targets = tf.placeholder(tf.int32,[None,None],name='targets')\n",
    "    lr = tf.placeholder(tf.float32,name='learning_rate')\n",
    "    keep_prob = tf.placeholder(tf.float32, name='keep_prob')\n",
    "    target_seq_length = tf.placeholder(tf.int32, (None,), name='target_sequence_length')\n",
    "    max_tsl = tf.reduce_max(target_seq_length, name='max_target_sequence_length')\n",
    "    source_seq_length = tf.placeholder(tf.int32, (None,), name= 'source_sequence_length')\n",
    "    \n",
    "    return input_d, targets, lr, keep_prob, target_seq_length, max_tsl, source_seq_length\n",
    "\n",
    "\"\"\"\n",
    "DON'T MODIFY ANYTHING IN THIS CELL THAT IS BELOW THIS LINE\n",
    "\"\"\"\n",
    "tests.test_model_inputs(model_inputs)"
   ]
  },
  {
   "cell_type": "markdown",
   "metadata": {},
   "source": [
    "### Process Decoder Input\n",
    "Implement `process_decoder_input` by removing the last word id from each batch in `target_data` and concat the GO ID to the begining of each batch."
   ]
  },
  {
   "cell_type": "code",
   "execution_count": 10,
   "metadata": {},
   "outputs": [
    {
     "name": "stdout",
     "output_type": "stream",
     "text": [
      "Tests Passed\n"
     ]
    }
   ],
   "source": [
    "def process_decoder_input(target_data, target_vocab_to_int, batch_size):\n",
    "    \"\"\"\n",
    "    Preprocess target data for encoding\n",
    "    :param target_data: Target Placehoder\n",
    "    :param target_vocab_to_int: Dictionary to go from the target words to an id\n",
    "    :param batch_size: Batch Size\n",
    "    :return: Preprocessed target data\n",
    "    \"\"\"\n",
    "    # TODO: Implement Function\n",
    "    ending = tf.strided_slice(target_data,[0,0],[batch_size,-1],[1,1])\n",
    "    preproc_tgt_data = tf.concat([tf.fill([batch_size,1],target_vocab_to_int['<GO>']),ending],1)\n",
    "    \n",
    "    return preproc_tgt_data\n",
    "\n",
    "\"\"\"\n",
    "DON'T MODIFY ANYTHING IN THIS CELL THAT IS BELOW THIS LINE\n",
    "\"\"\"\n",
    "tests.test_process_encoding_input(process_decoder_input)"
   ]
  },
  {
   "cell_type": "markdown",
   "metadata": {},
   "source": [
    "### Encoding\n",
    "Implement `encoding_layer()` to create a Encoder RNN layer:\n",
    " * Embed the encoder input using [`tf.contrib.layers.embed_sequence`](https://www.tensorflow.org/api_docs/python/tf/contrib/layers/embed_sequence)\n",
    " * Construct a [stacked](https://github.com/tensorflow/tensorflow/blob/6947f65a374ebf29e74bb71e36fd82760056d82c/tensorflow/docs_src/tutorials/recurrent.md#stacking-multiple-lstms) [`tf.contrib.rnn.LSTMCell`](https://www.tensorflow.org/api_docs/python/tf/contrib/rnn/LSTMCell) wrapped in a [`tf.contrib.rnn.DropoutWrapper`](https://www.tensorflow.org/api_docs/python/tf/contrib/rnn/DropoutWrapper)\n",
    " * Pass cell and embedded input to [`tf.nn.dynamic_rnn()`](https://www.tensorflow.org/api_docs/python/tf/nn/dynamic_rnn)"
   ]
  },
  {
   "cell_type": "code",
   "execution_count": 11,
   "metadata": {
    "scrolled": false
   },
   "outputs": [
    {
     "ename": "RuntimeError",
     "evalue": "module compiled against API version 0xb but this version of numpy is 0xa",
     "output_type": "error",
     "traceback": [
      "\u001b[0;31m---------------------------------------------------------------------------\u001b[0m",
      "\u001b[0;31mRuntimeError\u001b[0m                              Traceback (most recent call last)",
      "\u001b[0;31mRuntimeError\u001b[0m: module compiled against API version 0xb but this version of numpy is 0xa"
     ]
    },
    {
     "name": "stdout",
     "output_type": "stream",
     "text": [
      "Tests Passed\n"
     ]
    }
   ],
   "source": [
    "from imp import reload\n",
    "reload(tests)\n",
    "\n",
    "def encoding_layer(rnn_inputs, rnn_size, num_layers, keep_prob, \n",
    "                   source_sequence_length, source_vocab_size, \n",
    "                   encoding_embedding_size):\n",
    "    \"\"\"\n",
    "    Create encoding layer\n",
    "    :param rnn_inputs: Inputs for the RNN\n",
    "    :param rnn_size: RNN Size\n",
    "    :param num_layers: Number of layers\n",
    "    :param keep_prob: Dropout keep probability\n",
    "    :param source_sequence_length: a list of the lengths of each sequence in the batch\n",
    "    :param source_vocab_size: vocabulary size of source data\n",
    "    :param encoding_embedding_size: embedding size of source data\n",
    "    :return: tuple (RNN output, RNN state)\n",
    "    \"\"\"\n",
    "    # TODO: Implement Function\n",
    "    # Embed the input data\n",
    "    enc_embed_input = tf.contrib.layers.embed_sequence(rnn_inputs, source_vocab_size, encoding_embedding_size)\n",
    "#https://discussions.udacity.com/t/help-on-the-encoding-layer/312525/6\n",
    "    def make_cell(rnn_size):\n",
    "        enc_cell = tf.contrib.rnn.LSTMCell(rnn_size, initializer=tf.random_uniform_initializer(-0.1,0.1,seed=2))\n",
    "        enc_cell = tf.contrib.rnn.DropoutWrapper(enc_cell,output_keep_prob=keep_prob)\n",
    "        return enc_cell\n",
    "\n",
    "    enc_cell = tf.contrib.rnn.MultiRNNCell([make_cell(rnn_size) for _ in range(num_layers)])\n",
    "    enc_output, enc_state = tf.nn.dynamic_rnn(enc_cell, enc_embed_input, sequence_length=source_sequence_length,dtype=tf.float32)\n",
    "    \n",
    "    return enc_output, enc_state\n",
    "\n",
    "\"\"\"\n",
    "DON'T MODIFY ANYTHING IN THIS CELL THAT IS BELOW THIS LINE\n",
    "\"\"\"\n",
    "tests.test_encoding_layer(encoding_layer)"
   ]
  },
  {
   "cell_type": "markdown",
   "metadata": {},
   "source": [
    "### Decoding - Training\n",
    "Create a training decoding layer:\n",
    "* Create a [`tf.contrib.seq2seq.TrainingHelper`](https://www.tensorflow.org/api_docs/python/tf/contrib/seq2seq/TrainingHelper) \n",
    "* Create a [`tf.contrib.seq2seq.BasicDecoder`](https://www.tensorflow.org/api_docs/python/tf/contrib/seq2seq/BasicDecoder)\n",
    "* Obtain the decoder outputs from [`tf.contrib.seq2seq.dynamic_decode`](https://www.tensorflow.org/api_docs/python/tf/contrib/seq2seq/dynamic_decode)"
   ]
  },
  {
   "cell_type": "code",
   "execution_count": 12,
   "metadata": {},
   "outputs": [
    {
     "name": "stdout",
     "output_type": "stream",
     "text": [
      "Tests Passed\n"
     ]
    }
   ],
   "source": [
    "def decoding_layer_train(encoder_state, dec_cell, dec_embed_input, \n",
    "                         target_sequence_length, max_summary_length, \n",
    "                         output_layer, keep_prob):\n",
    "    \"\"\"\n",
    "    Create a decoding layer for training\n",
    "    :param encoder_state: Encoder State\n",
    "    :param dec_cell: Decoder RNN Cell\n",
    "    :param dec_embed_input: Decoder embedded input\n",
    "    :param target_sequence_length: The lengths of each sequence in the target batch\n",
    "    :param max_summary_length: The length of the longest sequence in the batch\n",
    "    :param output_layer: Function to apply the output layer\n",
    "    :param keep_prob: Dropout keep probability\n",
    "    :return: BasicDecoderOutput containing training logits and sample_id\n",
    "    \"\"\"\n",
    "    # TODO: Implement Function\n",
    "        # Helper for the training process. Used by BasicDecoder to read inputs.\n",
    "    training_helper = tf.contrib.seq2seq.TrainingHelper(inputs=dec_embed_input,\n",
    "                                                            sequence_length=target_sequence_length,\n",
    "                                                            time_major=False)\n",
    "        \n",
    "        \n",
    "        # Basic decoder\n",
    "    training_decoder = tf.contrib.seq2seq.BasicDecoder(dec_cell,\n",
    "                                                           training_helper,\n",
    "                                                           encoder_state,\n",
    "                                                           output_layer) \n",
    "        \n",
    "        # Perform dynamic decoding using the decoder\n",
    "    training_decoder_output = tf.contrib.seq2seq.dynamic_decode(training_decoder,\n",
    "                                impute_finished=True,\n",
    "                                maximum_iterations=max_summary_length)[0]# max_target_sequence_length)[0]\n",
    "    return training_decoder_output\n",
    "\n",
    "\n",
    "\n",
    "\"\"\"\n",
    "DON'T MODIFY ANYTHING IN THIS CELL THAT IS BELOW THIS LINE\n",
    "\"\"\"\n",
    "tests.test_decoding_layer_train(decoding_layer_train)"
   ]
  },
  {
   "cell_type": "markdown",
   "metadata": {},
   "source": [
    "### Decoding - Inference\n",
    "Create inference decoder:\n",
    "* Create a [`tf.contrib.seq2seq.GreedyEmbeddingHelper`](https://www.tensorflow.org/api_docs/python/tf/contrib/seq2seq/GreedyEmbeddingHelper)\n",
    "* Create a [`tf.contrib.seq2seq.BasicDecoder`](https://www.tensorflow.org/api_docs/python/tf/contrib/seq2seq/BasicDecoder)\n",
    "* Obtain the decoder outputs from [`tf.contrib.seq2seq.dynamic_decode`](https://www.tensorflow.org/api_docs/python/tf/contrib/seq2seq/dynamic_decode)"
   ]
  },
  {
   "cell_type": "code",
   "execution_count": 13,
   "metadata": {
    "scrolled": true
   },
   "outputs": [
    {
     "name": "stdout",
     "output_type": "stream",
     "text": [
      "Tests Passed\n"
     ]
    }
   ],
   "source": [
    "def decoding_layer_infer(encoder_state, dec_cell, dec_embeddings, start_of_sequence_id,\n",
    "                         end_of_sequence_id, max_target_sequence_length,\n",
    "                         vocab_size, output_layer, batch_size, keep_prob):\n",
    "    \"\"\"\n",
    "    Create a decoding layer for inference\n",
    "    :param encoder_state: Encoder state\n",
    "    :param dec_cell: Decoder RNN Cell\n",
    "    :param dec_embeddings: Decoder embeddings\n",
    "    :param start_of_sequence_id: GO ID\n",
    "    :param end_of_sequence_id: EOS Id\n",
    "    :param max_target_sequence_length: Maximum length of target sequences\n",
    "    :param vocab_size: Size of decoder/target vocabulary\n",
    "    :param decoding_scope: TenorFlow Variable Scope for decoding\n",
    "    :param output_layer: Function to apply the output layer\n",
    "    :param batch_size: Batch size\n",
    "    :param keep_prob: Dropout keep probability\n",
    "    :return: BasicDecoderOutput containing inference logits and sample_id\n",
    "    \"\"\"\n",
    "    # TODO: Implement Function\n",
    "    # Reuses the same parameters trained by the training process\n",
    "    start_tokens = tf.tile(tf.constant([start_of_sequence_id], dtype=tf.int32), [batch_size], name='start_tokens')\n",
    "#    start_of_sequence_id for target_vocab_to_int['<GO>']\n",
    "#target_vocab_to_int for target_letter_to_int\n",
    "        # Helper for the inference process.\n",
    "    inference_helper = tf.contrib.seq2seq.GreedyEmbeddingHelper(dec_embeddings,\n",
    "                                                                start_tokens,\n",
    "                                                                end_of_sequence_id)\n",
    "    # end_of_sequence_id for  target_vocab_to_int['<EOS>']\n",
    "\n",
    "        # Basic decoder\n",
    "    inference_decoder = tf.contrib.seq2seq.BasicDecoder(dec_cell,\n",
    "                                                        inference_helper,\n",
    "                                                        encoder_state,\n",
    "                                                        output_layer)\n",
    "        \n",
    "        # Perform dynamic decoding using the decoder\n",
    "    inference_decoder_output = tf.contrib.seq2seq.dynamic_decode(inference_decoder,\n",
    "                                                            impute_finished=True,\n",
    "                                                            maximum_iterations=max_target_sequence_length)[0]\n",
    "\n",
    "    return inference_decoder_output\n",
    "\n",
    "\n",
    "\n",
    "\"\"\"\n",
    "DON'T MODIFY ANYTHING IN THIS CELL THAT IS BELOW THIS LINE\n",
    "\"\"\"\n",
    "tests.test_decoding_layer_infer(decoding_layer_infer)"
   ]
  },
  {
   "cell_type": "markdown",
   "metadata": {},
   "source": [
    "### Build the Decoding Layer\n",
    "Implement `decoding_layer()` to create a Decoder RNN layer.\n",
    "\n",
    "* Embed the target sequences\n",
    "* Construct the decoder LSTM cell (just like you constructed the encoder cell above)\n",
    "* Create an output layer to map the outputs of the decoder to the elements of our vocabulary\n",
    "* Use the your `decoding_layer_train(encoder_state, dec_cell, dec_embed_input, target_sequence_length, max_target_sequence_length, output_layer, keep_prob)` function to get the training logits.\n",
    "* Use your `decoding_layer_infer(encoder_state, dec_cell, dec_embeddings, start_of_sequence_id, end_of_sequence_id, max_target_sequence_length, vocab_size, output_layer, batch_size, keep_prob)` function to get the inference logits.\n",
    "\n",
    "Note: You'll need to use [tf.variable_scope](https://www.tensorflow.org/api_docs/python/tf/variable_scope) to share variables between training and inference."
   ]
  },
  {
   "cell_type": "code",
   "execution_count": 14,
   "metadata": {},
   "outputs": [
    {
     "name": "stdout",
     "output_type": "stream",
     "text": [
      "Tests Passed\n"
     ]
    }
   ],
   "source": [
    "def decoding_layer(dec_input, encoder_state,\n",
    "                   target_sequence_length, max_target_sequence_length,\n",
    "                   rnn_size,\n",
    "                   num_layers, target_vocab_to_int, target_vocab_size,\n",
    "                   batch_size, keep_prob, decoding_embedding_size):\n",
    "    \"\"\"\n",
    "    Create decoding layer\n",
    "    :param dec_input: Decoder input\n",
    "    :param encoder_state: Encoder state\n",
    "    :param target_sequence_length: The lengths of each sequence in the target batch\n",
    "    :param max_target_sequence_length: Maximum length of target sequences\n",
    "    :param rnn_size: RNN Size\n",
    "    :param num_layers: Number of layers\n",
    "    :param target_vocab_to_int: Dictionary to go from the target words to an id\n",
    "    :param target_vocab_size: Size of target vocabulary\n",
    "    :param batch_size: The size of the batch\n",
    "    :param keep_prob: Dropout keep probability\n",
    "    :param decoding_embedding_size: Decoding embedding size\n",
    "    :return: Tuple of (Training BasicDecoderOutput, Inference BasicDecoderOutput)\n",
    "    \"\"\"\n",
    "    # TODO: Implement Function\n",
    "#             TrainBasicDecoderOutput = decoding_layer_train(encoder_state, \n",
    "#                                         dec_cell [defined here], dec_embed_input [defined here], \n",
    "#                                         target_sequence_length, max_target_sequence_length, \n",
    "#                                         output_layer [defined here], keep_prob)\n",
    "#         InferBasicDecoderOutput = decoding_layer_infer(encoder_state, \n",
    "#                                         dec_cell, dec_embeddings, \n",
    "#                                         start_of_sequence_id, end_of_sequence_id, \n",
    "#                                         max_target_sequence_length, vocab_size = target_vocab_size, \n",
    "#                                         output_layer, batch_size, keep_prob)\n",
    "    \n",
    "# def decoding_layer(target_letter_to_int=target_vocab_to_int,              # not used *\n",
    "#                    decoding_embedding_size=decoding_embedding_size,       #  used\n",
    "#                    num_layers=num_layers,                                 # used\n",
    "#                    rnn_size=rnn_size,                                     # used\n",
    "#                    target_sequence_length=target_sequence_length,         # used\n",
    "#                    max_target_sequence_length=max_target_sequence_length, # used\n",
    "#                    enc_state=encoder_state,                               #  used *\n",
    "#                    dec_input=dec_input):                                  #  used (2)\n",
    "#   + target_vocab_size                                                     #  used (2)\n",
    "#     + batch_size                                                          # not used \n",
    "#     + keep_prob                                                           # used \n",
    "    start_of_sequence_id = target_vocab_to_int['<GO>']\n",
    "    end_of_sequence_id = target_vocab_to_int['<EOS>']\n",
    "    # 1. Decoder Embedding\n",
    "    \n",
    "#    target_vocab_size = len(target_letter_to_int) # given from parameters \n",
    "    dec_embeddings = tf.Variable(tf.random_uniform([target_vocab_size, decoding_embedding_size]))\n",
    "    dec_embed_input = tf.nn.embedding_lookup(dec_embeddings, dec_input)\n",
    "\n",
    "    # 2. Construct the decoder cell\n",
    "    def make_cell(rnn_size):\n",
    "        dec_cell = tf.contrib.rnn.LSTMCell(rnn_size,\n",
    "                                           initializer=tf.random_uniform_initializer(-0.1, 0.1, seed=2))\n",
    "        # Drop\n",
    "        dec_cell = tf.contrib.rnn.DropoutWrapper(dec_cell,output_keep_prob=keep_prob)\n",
    "        \n",
    "        return dec_cell\n",
    "\n",
    "    dec_cell = tf.contrib.rnn.MultiRNNCell([make_cell(rnn_size) for _ in range(num_layers)])\n",
    "# Encoder\n",
    "#    enc_output, enc_state = tf.nn.dynamic_rnn(enc_cell, enc_embed_input, sequence_length=source_sequence_length,dtype=tf.float32)\n",
    "#    \n",
    "#    return enc_output, enc_state \n",
    "# End Encoder (useful?)\n",
    "    # 3. Dense layer to translate the decoder's output at each time \n",
    "    # step into a choice from the target vocabulary\n",
    "    output_layer = Dense(target_vocab_size,\n",
    "                         kernel_initializer = tf.truncated_normal_initializer(mean = 0.0, stddev=0.1))\n",
    "    \n",
    "    # Calls to for logits\n",
    "    # decoder train\n",
    "    # decoder infer\n",
    "    # sharing variables!\n",
    "    #with tf.variable_scope(\"decode\"):\n",
    "    with tf.variable_scope(\"decoding\"):\n",
    "        TrainBasicDecoderOutput = decoding_layer_train(encoder_state, \n",
    "                                        dec_cell, dec_embed_input, \n",
    "                                        target_sequence_length, max_target_sequence_length, \n",
    "                                        output_layer, keep_prob)\n",
    "        \n",
    "    with tf.variable_scope(\"decoding\", reuse=True):\n",
    "        InferBasicDecoderOutput = decoding_layer_infer(encoder_state, \n",
    "                                        dec_cell, dec_embeddings, \n",
    "                                        start_of_sequence_id, end_of_sequence_id, \n",
    "                                        max_target_sequence_length, target_vocab_size, \n",
    "                                        output_layer, batch_size, keep_prob)\n",
    "    \n",
    "    return TrainBasicDecoderOutput, InferBasicDecoderOutput\n",
    "\n",
    "\n",
    "\n",
    "\"\"\"\n",
    "DON'T MODIFY ANYTHING IN THIS CELL THAT IS BELOW THIS LINE\n",
    "\"\"\"\n",
    "tests.test_decoding_layer(decoding_layer)"
   ]
  },
  {
   "cell_type": "markdown",
   "metadata": {},
   "source": [
    "### Build the Neural Network\n",
    "Apply the functions you implemented above to:\n",
    "\n",
    "- Encode the input using your `encoding_layer(rnn_inputs, rnn_size, num_layers, keep_prob,  source_sequence_length, source_vocab_size, encoding_embedding_size)`.\n",
    "- Process target data using your `process_decoder_input(target_data, target_vocab_to_int, batch_size)` function.\n",
    "- Decode the encoded input using your `decoding_layer(dec_input, enc_state, target_sequence_length, max_target_sentence_length, rnn_size, num_layers, target_vocab_to_int, target_vocab_size, batch_size, keep_prob, dec_embedding_size)` function."
   ]
  },
  {
   "cell_type": "code",
   "execution_count": 16,
   "metadata": {},
   "outputs": [
    {
     "name": "stdout",
     "output_type": "stream",
     "text": [
      "Tests Passed\n"
     ]
    }
   ],
   "source": [
    "def seq2seq_model(input_data, target_data, keep_prob, batch_size,\n",
    "                  source_sequence_length, target_sequence_length,\n",
    "                  max_target_sentence_length,\n",
    "                  source_vocab_size, target_vocab_size,\n",
    "                  enc_embedding_size, dec_embedding_size,\n",
    "                  rnn_size, num_layers, target_vocab_to_int):\n",
    "    \"\"\"\n",
    "    Build the Sequence-to-Sequence part of the neural network\n",
    "    :param input_data: Input placeholder\n",
    "    :param target_data: Target placeholder\n",
    "    :param keep_prob: Dropout keep probability placeholder\n",
    "    :param batch_size: Batch Size\n",
    "    :param source_sequence_length: Sequence Lengths of source sequences in the batch\n",
    "    :param target_sequence_length: Sequence Lengths of target sequences in the batch\n",
    "    :param source_vocab_size: Source vocabulary size\n",
    "    :param target_vocab_size: Target vocabulary size\n",
    "    :param enc_embedding_size: Decoder embedding size\n",
    "    :param dec_embedding_size: Encoder embedding size\n",
    "    :param rnn_size: RNN Size\n",
    "    :param num_layers: Number of layers\n",
    "    :param target_vocab_to_int: Dictionary to go from the target words to an id\n",
    "    :return: Tuple of (Training BasicDecoderOutput, Inference BasicDecoderOutput)\n",
    "    \"\"\"\n",
    "    # targets = target_data\n",
    "    # = dec_embedding_size\n",
    "    # = enc_embedding_size\n",
    "    # target_vocab_size,\n",
    "                \n",
    "    # TODO: Implement Function\n",
    "    # Pass input data through the encoder,\n",
    "    # ignore the output\n",
    "    # use the state\n",
    "    _, enc_state = encoding_layer(input_data, rnn_size, num_layers, keep_prob,\n",
    "                                 source_sequence_length,source_vocab_size,\n",
    "                                 enc_embedding_size)\n",
    "\n",
    "    # Prepare the target sequences\n",
    "    # for the encoder in training mode\n",
    "    dec_input = process_decoder_input(target_data, target_vocab_to_int, batch_size)\n",
    "       \n",
    "    # vocab_to_int    = dec_input\n",
    "    # Pass encoder state (previously computed) and decoder inputs to the decoders\n",
    "    trainBasicDecoderOutput, inferBasicDecoderOutput = decoding_layer(dec_input, enc_state,\n",
    "                                                   target_sequence_length,\n",
    "                                                   max_target_sentence_length,\n",
    "                                                   rnn_size, num_layers,\n",
    "                                                   target_vocab_to_int, target_vocab_size,\n",
    "                                                   batch_size, keep_prob,dec_embedding_size)\n",
    "        \n",
    "    return trainBasicDecoderOutput, inferBasicDecoderOutput\n",
    "\n",
    "\n",
    "\"\"\"\n",
    "DON'T MODIFY ANYTHING IN THIS CELL THAT IS BELOW THIS LINE\n",
    "\"\"\"\n",
    "tests.test_seq2seq_model(seq2seq_model)"
   ]
  },
  {
   "cell_type": "markdown",
   "metadata": {},
   "source": [
    "## Neural Network Training\n",
    "### Hyperparameters\n",
    "Tune the following parameters:\n",
    "\n",
    "- Set `epochs` to the number of epochs.\n",
    "- Set `batch_size` to the batch size.\n",
    "- Set `rnn_size` to the size of the RNNs.\n",
    "- Set `num_layers` to the number of layers.\n",
    "- Set `encoding_embedding_size` to the size of the embedding for the encoder.\n",
    "- Set `decoding_embedding_size` to the size of the embedding for the decoder.\n",
    "- Set `learning_rate` to the learning rate.\n",
    "- Set `keep_probability` to the Dropout keep probability\n",
    "- Set `display_step` to state how many steps between each debug output statement"
   ]
  },
  {
   "cell_type": "code",
   "execution_count": 17,
   "metadata": {
    "collapsed": true
   },
   "outputs": [],
   "source": [
    "# Number of Epochs\n",
    "epochs = 20 # 60\n",
    "# Batch Size\n",
    "batch_size = 128\n",
    "# RNN Size\n",
    "rnn_size = 50\n",
    "# Number of Layers\n",
    "num_layers = 2\n",
    "# Embedding Size\n",
    "encoding_embedding_size = 15\n",
    "decoding_embedding_size = 15\n",
    "# Learning Rate\n",
    "learning_rate = 0.001\n",
    "# Dropout Keep Probability\n",
    "keep_probability = 0.7 # perhaps smaller?\n",
    "display_step = 100"
   ]
  },
  {
   "cell_type": "markdown",
   "metadata": {},
   "source": [
    "### Build the Graph\n",
    "Build the graph using the neural network you implemented."
   ]
  },
  {
   "cell_type": "code",
   "execution_count": 18,
   "metadata": {
    "collapsed": true
   },
   "outputs": [],
   "source": [
    "\"\"\"\n",
    "DON'T MODIFY ANYTHING IN THIS CELL\n",
    "\"\"\"\n",
    "save_path = 'checkpoints/dev'\n",
    "(source_int_text, target_int_text), (source_vocab_to_int, target_vocab_to_int), _ = helper.load_preprocess()\n",
    "max_target_sentence_length = max([len(sentence) for sentence in source_int_text])\n",
    "\n",
    "train_graph = tf.Graph()\n",
    "with train_graph.as_default():\n",
    "    input_data, targets, lr, keep_prob, target_sequence_length, max_target_sequence_length, source_sequence_length = model_inputs()\n",
    "\n",
    "    #sequence_length = tf.placeholder_with_default(max_target_sentence_length, None, name='sequence_length')\n",
    "    input_shape = tf.shape(input_data)\n",
    "\n",
    "    train_logits, inference_logits = seq2seq_model(tf.reverse(input_data, [-1]),\n",
    "                                                   targets,\n",
    "                                                   keep_prob,\n",
    "                                                   batch_size,\n",
    "                                                   source_sequence_length,\n",
    "                                                   target_sequence_length,\n",
    "                                                   max_target_sequence_length,\n",
    "                                                   len(source_vocab_to_int),\n",
    "                                                   len(target_vocab_to_int),\n",
    "                                                   encoding_embedding_size,\n",
    "                                                   decoding_embedding_size,\n",
    "                                                   rnn_size,\n",
    "                                                   num_layers,\n",
    "                                                   target_vocab_to_int)\n",
    "\n",
    "\n",
    "    training_logits = tf.identity(train_logits.rnn_output, name='logits')\n",
    "    inference_logits = tf.identity(inference_logits.sample_id, name='predictions')\n",
    "\n",
    "    masks = tf.sequence_mask(target_sequence_length, max_target_sequence_length, dtype=tf.float32, name='masks')\n",
    "\n",
    "    with tf.name_scope(\"optimization\"):\n",
    "        # Loss function\n",
    "        cost = tf.contrib.seq2seq.sequence_loss(\n",
    "            training_logits,\n",
    "            targets,\n",
    "            masks)\n",
    "\n",
    "        # Optimizer\n",
    "        optimizer = tf.train.AdamOptimizer(lr)\n",
    "\n",
    "        # Gradient Clipping\n",
    "        gradients = optimizer.compute_gradients(cost)\n",
    "        capped_gradients = [(tf.clip_by_value(grad, -1., 1.), var) for grad, var in gradients if grad is not None]\n",
    "        train_op = optimizer.apply_gradients(capped_gradients)\n"
   ]
  },
  {
   "cell_type": "markdown",
   "metadata": {},
   "source": [
    "Batch and pad the source and target sequences"
   ]
  },
  {
   "cell_type": "code",
   "execution_count": 19,
   "metadata": {
    "collapsed": true
   },
   "outputs": [],
   "source": [
    "\"\"\"\n",
    "DON'T MODIFY ANYTHING IN THIS CELL\n",
    "\"\"\"\n",
    "def pad_sentence_batch(sentence_batch, pad_int):\n",
    "    \"\"\"Pad sentences with <PAD> so that each sentence of a batch has the same length\"\"\"\n",
    "    max_sentence = max([len(sentence) for sentence in sentence_batch])\n",
    "    return [sentence + [pad_int] * (max_sentence - len(sentence)) for sentence in sentence_batch]\n",
    "\n",
    "\n",
    "def get_batches(sources, targets, batch_size, source_pad_int, target_pad_int):\n",
    "    \"\"\"Batch targets, sources, and the lengths of their sentences together\"\"\"\n",
    "    for batch_i in range(0, len(sources)//batch_size):\n",
    "        start_i = batch_i * batch_size\n",
    "\n",
    "        # Slice the right amount for the batch\n",
    "        sources_batch = sources[start_i:start_i + batch_size]\n",
    "        targets_batch = targets[start_i:start_i + batch_size]\n",
    "\n",
    "        # Pad\n",
    "        pad_sources_batch = np.array(pad_sentence_batch(sources_batch, source_pad_int))\n",
    "        pad_targets_batch = np.array(pad_sentence_batch(targets_batch, target_pad_int))\n",
    "\n",
    "        # Need the lengths for the _lengths parameters\n",
    "        pad_targets_lengths = []\n",
    "        for target in pad_targets_batch:\n",
    "            pad_targets_lengths.append(len(target))\n",
    "\n",
    "        pad_source_lengths = []\n",
    "        for source in pad_sources_batch:\n",
    "            pad_source_lengths.append(len(source))\n",
    "\n",
    "        yield pad_sources_batch, pad_targets_batch, pad_source_lengths, pad_targets_lengths\n"
   ]
  },
  {
   "cell_type": "markdown",
   "metadata": {},
   "source": [
    "### Train\n",
    "Train the neural network on the preprocessed data. If you have a hard time getting a good loss, check the forms to see if anyone is having the same problem."
   ]
  },
  {
   "cell_type": "code",
   "execution_count": 20,
   "metadata": {
    "scrolled": true
   },
   "outputs": [
    {
     "name": "stdout",
     "output_type": "stream",
     "text": [
      "Epoch   0 Batch  100/1077 - Train Accuracy: 0.2617, Validation Accuracy: 0.3363, Loss: 3.4065\n",
      "Epoch   0 Batch  200/1077 - Train Accuracy: 0.3438, Validation Accuracy: 0.3956, Loss: 3.0474\n",
      "Epoch   0 Batch  300/1077 - Train Accuracy: 0.3565, Validation Accuracy: 0.4425, Loss: 2.8943\n",
      "Epoch   0 Batch  400/1077 - Train Accuracy: 0.4023, Validation Accuracy: 0.4641, Loss: 2.5954\n",
      "Epoch   0 Batch  500/1077 - Train Accuracy: 0.4230, Validation Accuracy: 0.4691, Loss: 2.4041\n",
      "Epoch   0 Batch  600/1077 - Train Accuracy: 0.4572, Validation Accuracy: 0.4688, Loss: 2.1588\n",
      "Epoch   0 Batch  700/1077 - Train Accuracy: 0.4523, Validation Accuracy: 0.4922, Loss: 2.0313\n",
      "Epoch   0 Batch  800/1077 - Train Accuracy: 0.4250, Validation Accuracy: 0.4737, Loss: 1.9379\n",
      "Epoch   0 Batch  900/1077 - Train Accuracy: 0.4035, Validation Accuracy: 0.4609, Loss: 1.7780\n",
      "Epoch   0 Batch 1000/1077 - Train Accuracy: 0.4516, Validation Accuracy: 0.4659, Loss: 1.4950\n",
      "Epoch   1 Batch  100/1077 - Train Accuracy: 0.2480, Validation Accuracy: 0.2752, Loss: 1.3891\n",
      "Epoch   1 Batch  200/1077 - Train Accuracy: 0.2859, Validation Accuracy: 0.2965, Loss: 1.3168\n",
      "Epoch   1 Batch  300/1077 - Train Accuracy: 0.2981, Validation Accuracy: 0.2905, Loss: 1.3416\n",
      "Epoch   1 Batch  400/1077 - Train Accuracy: 0.3371, Validation Accuracy: 0.3100, Loss: 1.2258\n",
      "Epoch   1 Batch  500/1077 - Train Accuracy: 0.3398, Validation Accuracy: 0.3342, Loss: 1.1529\n",
      "Epoch   1 Batch  600/1077 - Train Accuracy: 0.3780, Validation Accuracy: 0.3331, Loss: 1.0781\n",
      "Epoch   1 Batch  700/1077 - Train Accuracy: 0.4723, Validation Accuracy: 0.4755, Loss: 1.0567\n",
      "Epoch   1 Batch  800/1077 - Train Accuracy: 0.4418, Validation Accuracy: 0.4783, Loss: 1.0519\n",
      "Epoch   1 Batch  900/1077 - Train Accuracy: 0.4398, Validation Accuracy: 0.4773, Loss: 1.0403\n",
      "Epoch   1 Batch 1000/1077 - Train Accuracy: 0.5015, Validation Accuracy: 0.4755, Loss: 0.9408\n",
      "Epoch   2 Batch  100/1077 - Train Accuracy: 0.4629, Validation Accuracy: 0.4908, Loss: 0.9689\n",
      "Epoch   2 Batch  200/1077 - Train Accuracy: 0.5059, Validation Accuracy: 0.5607, Loss: 0.9433\n",
      "Epoch   2 Batch  300/1077 - Train Accuracy: 0.4897, Validation Accuracy: 0.5597, Loss: 0.9329\n",
      "Epoch   2 Batch  400/1077 - Train Accuracy: 0.5383, Validation Accuracy: 0.5838, Loss: 0.8913\n",
      "Epoch   2 Batch  500/1077 - Train Accuracy: 0.5594, Validation Accuracy: 0.5785, Loss: 0.8657\n",
      "Epoch   2 Batch  600/1077 - Train Accuracy: 0.5781, Validation Accuracy: 0.5835, Loss: 0.8131\n",
      "Epoch   2 Batch  700/1077 - Train Accuracy: 0.5652, Validation Accuracy: 0.5898, Loss: 0.8331\n",
      "Epoch   2 Batch  800/1077 - Train Accuracy: 0.5523, Validation Accuracy: 0.6097, Loss: 0.8277\n",
      "Epoch   2 Batch  900/1077 - Train Accuracy: 0.5844, Validation Accuracy: 0.6083, Loss: 0.8122\n",
      "Epoch   2 Batch 1000/1077 - Train Accuracy: 0.6321, Validation Accuracy: 0.6115, Loss: 0.7441\n",
      "Epoch   3 Batch  100/1077 - Train Accuracy: 0.6160, Validation Accuracy: 0.6204, Loss: 0.7746\n",
      "Epoch   3 Batch  200/1077 - Train Accuracy: 0.5711, Validation Accuracy: 0.6161, Loss: 0.7725\n",
      "Epoch   3 Batch  300/1077 - Train Accuracy: 0.5843, Validation Accuracy: 0.6186, Loss: 0.7752\n",
      "Epoch   3 Batch  400/1077 - Train Accuracy: 0.6027, Validation Accuracy: 0.6200, Loss: 0.7490\n",
      "Epoch   3 Batch  500/1077 - Train Accuracy: 0.6051, Validation Accuracy: 0.6204, Loss: 0.7250\n",
      "Epoch   3 Batch  600/1077 - Train Accuracy: 0.6150, Validation Accuracy: 0.6225, Loss: 0.6727\n",
      "Epoch   3 Batch  700/1077 - Train Accuracy: 0.5906, Validation Accuracy: 0.6325, Loss: 0.6957\n",
      "Epoch   3 Batch  800/1077 - Train Accuracy: 0.5691, Validation Accuracy: 0.6254, Loss: 0.6975\n",
      "Epoch   3 Batch  900/1077 - Train Accuracy: 0.6188, Validation Accuracy: 0.6271, Loss: 0.6886\n",
      "Epoch   3 Batch 1000/1077 - Train Accuracy: 0.6656, Validation Accuracy: 0.6307, Loss: 0.6030\n",
      "Epoch   4 Batch  100/1077 - Train Accuracy: 0.6324, Validation Accuracy: 0.6325, Loss: 0.6525\n",
      "Epoch   4 Batch  200/1077 - Train Accuracy: 0.6016, Validation Accuracy: 0.6314, Loss: 0.6584\n",
      "Epoch   4 Batch  300/1077 - Train Accuracy: 0.6090, Validation Accuracy: 0.6342, Loss: 0.6572\n",
      "Epoch   4 Batch  400/1077 - Train Accuracy: 0.6125, Validation Accuracy: 0.6360, Loss: 0.6324\n",
      "Epoch   4 Batch  500/1077 - Train Accuracy: 0.6180, Validation Accuracy: 0.6300, Loss: 0.6198\n",
      "Epoch   4 Batch  600/1077 - Train Accuracy: 0.6324, Validation Accuracy: 0.6328, Loss: 0.5977\n",
      "Epoch   4 Batch  700/1077 - Train Accuracy: 0.6039, Validation Accuracy: 0.6303, Loss: 0.6226\n",
      "Epoch   4 Batch  800/1077 - Train Accuracy: 0.5875, Validation Accuracy: 0.6310, Loss: 0.6002\n",
      "Epoch   4 Batch  900/1077 - Train Accuracy: 0.6301, Validation Accuracy: 0.6424, Loss: 0.6033\n",
      "Epoch   4 Batch 1000/1077 - Train Accuracy: 0.6749, Validation Accuracy: 0.6367, Loss: 0.5413\n",
      "Epoch   5 Batch  100/1077 - Train Accuracy: 0.6457, Validation Accuracy: 0.6460, Loss: 0.6010\n",
      "Epoch   5 Batch  200/1077 - Train Accuracy: 0.6000, Validation Accuracy: 0.6413, Loss: 0.6009\n",
      "Epoch   5 Batch  300/1077 - Train Accuracy: 0.6258, Validation Accuracy: 0.6467, Loss: 0.5922\n",
      "Epoch   5 Batch  400/1077 - Train Accuracy: 0.6195, Validation Accuracy: 0.6491, Loss: 0.5967\n",
      "Epoch   5 Batch  500/1077 - Train Accuracy: 0.6387, Validation Accuracy: 0.6470, Loss: 0.5686\n",
      "Epoch   5 Batch  600/1077 - Train Accuracy: 0.6436, Validation Accuracy: 0.6438, Loss: 0.5378\n",
      "Epoch   5 Batch  700/1077 - Train Accuracy: 0.6137, Validation Accuracy: 0.6484, Loss: 0.5533\n",
      "Epoch   5 Batch  800/1077 - Train Accuracy: 0.6180, Validation Accuracy: 0.6442, Loss: 0.5527\n",
      "Epoch   5 Batch  900/1077 - Train Accuracy: 0.6711, Validation Accuracy: 0.6722, Loss: 0.5536\n",
      "Epoch   5 Batch 1000/1077 - Train Accuracy: 0.7165, Validation Accuracy: 0.6499, Loss: 0.4992\n",
      "Epoch   6 Batch  100/1077 - Train Accuracy: 0.6727, Validation Accuracy: 0.6552, Loss: 0.5509\n",
      "Epoch   6 Batch  200/1077 - Train Accuracy: 0.6457, Validation Accuracy: 0.6531, Loss: 0.5512\n",
      "Epoch   6 Batch  300/1077 - Train Accuracy: 0.6756, Validation Accuracy: 0.6616, Loss: 0.5240\n",
      "Epoch   6 Batch  400/1077 - Train Accuracy: 0.6609, Validation Accuracy: 0.6776, Loss: 0.5342\n",
      "Epoch   6 Batch  500/1077 - Train Accuracy: 0.6926, Validation Accuracy: 0.6712, Loss: 0.5111\n",
      "Epoch   6 Batch  600/1077 - Train Accuracy: 0.6868, Validation Accuracy: 0.6811, Loss: 0.5028\n",
      "Epoch   6 Batch  700/1077 - Train Accuracy: 0.6852, Validation Accuracy: 0.7031, Loss: 0.5003\n",
      "Epoch   6 Batch  800/1077 - Train Accuracy: 0.6691, Validation Accuracy: 0.6964, Loss: 0.5061\n",
      "Epoch   6 Batch  900/1077 - Train Accuracy: 0.7078, Validation Accuracy: 0.6935, Loss: 0.5122\n",
      "Epoch   6 Batch 1000/1077 - Train Accuracy: 0.7351, Validation Accuracy: 0.7024, Loss: 0.4493\n",
      "Epoch   7 Batch  100/1077 - Train Accuracy: 0.7191, Validation Accuracy: 0.7070, Loss: 0.4961\n",
      "Epoch   7 Batch  200/1077 - Train Accuracy: 0.6805, Validation Accuracy: 0.6964, Loss: 0.4857\n",
      "Epoch   7 Batch  300/1077 - Train Accuracy: 0.7163, Validation Accuracy: 0.7163, Loss: 0.4778\n",
      "Epoch   7 Batch  400/1077 - Train Accuracy: 0.6887, Validation Accuracy: 0.7205, Loss: 0.4773\n",
      "Epoch   7 Batch  500/1077 - Train Accuracy: 0.7141, Validation Accuracy: 0.7092, Loss: 0.4708\n",
      "Epoch   7 Batch  600/1077 - Train Accuracy: 0.6983, Validation Accuracy: 0.6982, Loss: 0.4451\n",
      "Epoch   7 Batch  700/1077 - Train Accuracy: 0.6883, Validation Accuracy: 0.7120, Loss: 0.4454\n",
      "Epoch   7 Batch  800/1077 - Train Accuracy: 0.6816, Validation Accuracy: 0.7077, Loss: 0.4474\n",
      "Epoch   7 Batch  900/1077 - Train Accuracy: 0.7297, Validation Accuracy: 0.7195, Loss: 0.4585\n",
      "Epoch   7 Batch 1000/1077 - Train Accuracy: 0.7560, Validation Accuracy: 0.7099, Loss: 0.4064\n",
      "Epoch   8 Batch  100/1077 - Train Accuracy: 0.7488, Validation Accuracy: 0.7116, Loss: 0.4392\n",
      "Epoch   8 Batch  200/1077 - Train Accuracy: 0.6887, Validation Accuracy: 0.7230, Loss: 0.4476\n",
      "Epoch   8 Batch  300/1077 - Train Accuracy: 0.7484, Validation Accuracy: 0.7163, Loss: 0.4082\n",
      "Epoch   8 Batch  400/1077 - Train Accuracy: 0.7164, Validation Accuracy: 0.7212, Loss: 0.4374\n",
      "Epoch   8 Batch  500/1077 - Train Accuracy: 0.7387, Validation Accuracy: 0.7244, Loss: 0.4219\n",
      "Epoch   8 Batch  600/1077 - Train Accuracy: 0.7426, Validation Accuracy: 0.7358, Loss: 0.4118\n",
      "Epoch   8 Batch  700/1077 - Train Accuracy: 0.7328, Validation Accuracy: 0.7340, Loss: 0.4034\n",
      "Epoch   8 Batch  800/1077 - Train Accuracy: 0.7141, Validation Accuracy: 0.7138, Loss: 0.4136\n"
     ]
    },
    {
     "name": "stdout",
     "output_type": "stream",
     "text": [
      "Epoch   8 Batch  900/1077 - Train Accuracy: 0.7547, Validation Accuracy: 0.7230, Loss: 0.4064\n",
      "Epoch   8 Batch 1000/1077 - Train Accuracy: 0.7894, Validation Accuracy: 0.7443, Loss: 0.3610\n",
      "Epoch   9 Batch  100/1077 - Train Accuracy: 0.7742, Validation Accuracy: 0.7472, Loss: 0.4046\n",
      "Epoch   9 Batch  200/1077 - Train Accuracy: 0.7164, Validation Accuracy: 0.7425, Loss: 0.4039\n",
      "Epoch   9 Batch  300/1077 - Train Accuracy: 0.7640, Validation Accuracy: 0.7528, Loss: 0.4083\n",
      "Epoch   9 Batch  400/1077 - Train Accuracy: 0.7398, Validation Accuracy: 0.7464, Loss: 0.4130\n",
      "Epoch   9 Batch  500/1077 - Train Accuracy: 0.7633, Validation Accuracy: 0.7504, Loss: 0.3808\n",
      "Epoch   9 Batch  600/1077 - Train Accuracy: 0.7493, Validation Accuracy: 0.7479, Loss: 0.3630\n",
      "Epoch   9 Batch  700/1077 - Train Accuracy: 0.7562, Validation Accuracy: 0.7638, Loss: 0.3648\n",
      "Epoch   9 Batch  800/1077 - Train Accuracy: 0.7438, Validation Accuracy: 0.7472, Loss: 0.3665\n",
      "Epoch   9 Batch  900/1077 - Train Accuracy: 0.7898, Validation Accuracy: 0.7493, Loss: 0.3762\n",
      "Epoch   9 Batch 1000/1077 - Train Accuracy: 0.7898, Validation Accuracy: 0.7578, Loss: 0.3284\n",
      "Epoch  10 Batch  100/1077 - Train Accuracy: 0.8164, Validation Accuracy: 0.7724, Loss: 0.3698\n",
      "Epoch  10 Batch  200/1077 - Train Accuracy: 0.7230, Validation Accuracy: 0.7773, Loss: 0.3584\n",
      "Epoch  10 Batch  300/1077 - Train Accuracy: 0.8047, Validation Accuracy: 0.7553, Loss: 0.3463\n",
      "Epoch  10 Batch  400/1077 - Train Accuracy: 0.7758, Validation Accuracy: 0.7567, Loss: 0.3622\n",
      "Epoch  10 Batch  500/1077 - Train Accuracy: 0.8008, Validation Accuracy: 0.7738, Loss: 0.3489\n",
      "Epoch  10 Batch  600/1077 - Train Accuracy: 0.7827, Validation Accuracy: 0.7724, Loss: 0.3284\n",
      "Epoch  10 Batch  700/1077 - Train Accuracy: 0.7984, Validation Accuracy: 0.7745, Loss: 0.3245\n",
      "Epoch  10 Batch  800/1077 - Train Accuracy: 0.7801, Validation Accuracy: 0.7770, Loss: 0.3317\n",
      "Epoch  10 Batch  900/1077 - Train Accuracy: 0.8262, Validation Accuracy: 0.7667, Loss: 0.3556\n",
      "Epoch  10 Batch 1000/1077 - Train Accuracy: 0.8218, Validation Accuracy: 0.7930, Loss: 0.3029\n",
      "Epoch  11 Batch  100/1077 - Train Accuracy: 0.8313, Validation Accuracy: 0.7841, Loss: 0.3427\n",
      "Epoch  11 Batch  200/1077 - Train Accuracy: 0.7863, Validation Accuracy: 0.7940, Loss: 0.3340\n",
      "Epoch  11 Batch  300/1077 - Train Accuracy: 0.8294, Validation Accuracy: 0.7638, Loss: 0.3081\n",
      "Epoch  11 Batch  400/1077 - Train Accuracy: 0.7906, Validation Accuracy: 0.7841, Loss: 0.3387\n",
      "Epoch  11 Batch  500/1077 - Train Accuracy: 0.8113, Validation Accuracy: 0.7930, Loss: 0.3056\n",
      "Epoch  11 Batch  600/1077 - Train Accuracy: 0.8151, Validation Accuracy: 0.7809, Loss: 0.3177\n",
      "Epoch  11 Batch  700/1077 - Train Accuracy: 0.8133, Validation Accuracy: 0.8111, Loss: 0.2846\n",
      "Epoch  11 Batch  800/1077 - Train Accuracy: 0.8027, Validation Accuracy: 0.7773, Loss: 0.2989\n",
      "Epoch  11 Batch  900/1077 - Train Accuracy: 0.8230, Validation Accuracy: 0.7720, Loss: 0.3270\n",
      "Epoch  11 Batch 1000/1077 - Train Accuracy: 0.8523, Validation Accuracy: 0.7891, Loss: 0.2734\n",
      "Epoch  12 Batch  100/1077 - Train Accuracy: 0.8406, Validation Accuracy: 0.8061, Loss: 0.2966\n",
      "Epoch  12 Batch  200/1077 - Train Accuracy: 0.8047, Validation Accuracy: 0.7809, Loss: 0.2977\n",
      "Epoch  12 Batch  300/1077 - Train Accuracy: 0.8553, Validation Accuracy: 0.8111, Loss: 0.2909\n",
      "Epoch  12 Batch  400/1077 - Train Accuracy: 0.8281, Validation Accuracy: 0.8043, Loss: 0.3067\n",
      "Epoch  12 Batch  500/1077 - Train Accuracy: 0.8242, Validation Accuracy: 0.8118, Loss: 0.2872\n",
      "Epoch  12 Batch  600/1077 - Train Accuracy: 0.8274, Validation Accuracy: 0.8089, Loss: 0.2737\n",
      "Epoch  12 Batch  700/1077 - Train Accuracy: 0.8523, Validation Accuracy: 0.8058, Loss: 0.2655\n",
      "Epoch  12 Batch  800/1077 - Train Accuracy: 0.8074, Validation Accuracy: 0.8168, Loss: 0.2710\n",
      "Epoch  12 Batch  900/1077 - Train Accuracy: 0.8313, Validation Accuracy: 0.7997, Loss: 0.2884\n",
      "Epoch  12 Batch 1000/1077 - Train Accuracy: 0.8601, Validation Accuracy: 0.7933, Loss: 0.2562\n",
      "Epoch  13 Batch  100/1077 - Train Accuracy: 0.8504, Validation Accuracy: 0.8018, Loss: 0.2628\n",
      "Epoch  13 Batch  200/1077 - Train Accuracy: 0.8363, Validation Accuracy: 0.8129, Loss: 0.2905\n",
      "Epoch  13 Batch  300/1077 - Train Accuracy: 0.8565, Validation Accuracy: 0.8075, Loss: 0.2669\n",
      "Epoch  13 Batch  400/1077 - Train Accuracy: 0.8305, Validation Accuracy: 0.7930, Loss: 0.2811\n",
      "Epoch  13 Batch  500/1077 - Train Accuracy: 0.8332, Validation Accuracy: 0.7994, Loss: 0.2544\n",
      "Epoch  13 Batch  600/1077 - Train Accuracy: 0.8441, Validation Accuracy: 0.8423, Loss: 0.2502\n",
      "Epoch  13 Batch  700/1077 - Train Accuracy: 0.8586, Validation Accuracy: 0.8164, Loss: 0.2431\n",
      "Epoch  13 Batch  800/1077 - Train Accuracy: 0.8348, Validation Accuracy: 0.8026, Loss: 0.2566\n",
      "Epoch  13 Batch  900/1077 - Train Accuracy: 0.8512, Validation Accuracy: 0.8157, Loss: 0.2675\n",
      "Epoch  13 Batch 1000/1077 - Train Accuracy: 0.8757, Validation Accuracy: 0.8072, Loss: 0.2364\n",
      "Epoch  14 Batch  100/1077 - Train Accuracy: 0.8668, Validation Accuracy: 0.8409, Loss: 0.2472\n",
      "Epoch  14 Batch  200/1077 - Train Accuracy: 0.8465, Validation Accuracy: 0.8185, Loss: 0.2676\n",
      "Epoch  14 Batch  300/1077 - Train Accuracy: 0.8586, Validation Accuracy: 0.8086, Loss: 0.2532\n",
      "Epoch  14 Batch  400/1077 - Train Accuracy: 0.8289, Validation Accuracy: 0.8072, Loss: 0.2825\n",
      "Epoch  14 Batch  500/1077 - Train Accuracy: 0.8590, Validation Accuracy: 0.8317, Loss: 0.2370\n",
      "Epoch  14 Batch  600/1077 - Train Accuracy: 0.8497, Validation Accuracy: 0.8267, Loss: 0.2318\n",
      "Epoch  14 Batch  700/1077 - Train Accuracy: 0.8840, Validation Accuracy: 0.8267, Loss: 0.2098\n",
      "Epoch  14 Batch  800/1077 - Train Accuracy: 0.8484, Validation Accuracy: 0.8395, Loss: 0.2468\n",
      "Epoch  14 Batch  900/1077 - Train Accuracy: 0.8699, Validation Accuracy: 0.8441, Loss: 0.2560\n",
      "Epoch  14 Batch 1000/1077 - Train Accuracy: 0.8858, Validation Accuracy: 0.8232, Loss: 0.2109\n",
      "Epoch  15 Batch  100/1077 - Train Accuracy: 0.8574, Validation Accuracy: 0.8491, Loss: 0.2207\n",
      "Epoch  15 Batch  200/1077 - Train Accuracy: 0.8531, Validation Accuracy: 0.8292, Loss: 0.2364\n",
      "Epoch  15 Batch  300/1077 - Train Accuracy: 0.8672, Validation Accuracy: 0.8153, Loss: 0.2467\n",
      "Epoch  15 Batch  400/1077 - Train Accuracy: 0.8438, Validation Accuracy: 0.8352, Loss: 0.2558\n",
      "Epoch  15 Batch  500/1077 - Train Accuracy: 0.8699, Validation Accuracy: 0.8601, Loss: 0.2234\n",
      "Epoch  15 Batch  600/1077 - Train Accuracy: 0.8795, Validation Accuracy: 0.8352, Loss: 0.2164\n",
      "Epoch  15 Batch  700/1077 - Train Accuracy: 0.8930, Validation Accuracy: 0.8246, Loss: 0.2194\n",
      "Epoch  15 Batch  800/1077 - Train Accuracy: 0.8520, Validation Accuracy: 0.8388, Loss: 0.2292\n",
      "Epoch  15 Batch  900/1077 - Train Accuracy: 0.8758, Validation Accuracy: 0.8466, Loss: 0.2406\n",
      "Epoch  15 Batch 1000/1077 - Train Accuracy: 0.8962, Validation Accuracy: 0.8477, Loss: 0.2097\n",
      "Epoch  16 Batch  100/1077 - Train Accuracy: 0.8676, Validation Accuracy: 0.8381, Loss: 0.2050\n",
      "Epoch  16 Batch  200/1077 - Train Accuracy: 0.8402, Validation Accuracy: 0.8580, Loss: 0.2107\n",
      "Epoch  16 Batch  300/1077 - Train Accuracy: 0.8795, Validation Accuracy: 0.8501, Loss: 0.2124\n",
      "Epoch  16 Batch  400/1077 - Train Accuracy: 0.8617, Validation Accuracy: 0.8455, Loss: 0.2285\n",
      "Epoch  16 Batch  500/1077 - Train Accuracy: 0.8840, Validation Accuracy: 0.8583, Loss: 0.2030\n",
      "Epoch  16 Batch  600/1077 - Train Accuracy: 0.8668, Validation Accuracy: 0.8462, Loss: 0.2072\n",
      "Epoch  16 Batch  700/1077 - Train Accuracy: 0.8984, Validation Accuracy: 0.8381, Loss: 0.1921\n",
      "Epoch  16 Batch  800/1077 - Train Accuracy: 0.8555, Validation Accuracy: 0.8555, Loss: 0.1974\n",
      "Epoch  16 Batch  900/1077 - Train Accuracy: 0.8750, Validation Accuracy: 0.8409, Loss: 0.2236\n",
      "Epoch  16 Batch 1000/1077 - Train Accuracy: 0.8992, Validation Accuracy: 0.8459, Loss: 0.2107\n",
      "Epoch  17 Batch  100/1077 - Train Accuracy: 0.8816, Validation Accuracy: 0.8469, Loss: 0.2078\n",
      "Epoch  17 Batch  200/1077 - Train Accuracy: 0.8531, Validation Accuracy: 0.8555, Loss: 0.2101\n",
      "Epoch  17 Batch  300/1077 - Train Accuracy: 0.8795, Validation Accuracy: 0.8505, Loss: 0.2036\n",
      "Epoch  17 Batch  400/1077 - Train Accuracy: 0.8590, Validation Accuracy: 0.8427, Loss: 0.2189\n",
      "Epoch  17 Batch  500/1077 - Train Accuracy: 0.8688, Validation Accuracy: 0.8505, Loss: 0.1861\n",
      "Epoch  17 Batch  600/1077 - Train Accuracy: 0.8776, Validation Accuracy: 0.8615, Loss: 0.1987\n"
     ]
    },
    {
     "name": "stdout",
     "output_type": "stream",
     "text": [
      "Epoch  17 Batch  700/1077 - Train Accuracy: 0.9059, Validation Accuracy: 0.8523, Loss: 0.1957\n",
      "Epoch  17 Batch  800/1077 - Train Accuracy: 0.8578, Validation Accuracy: 0.8487, Loss: 0.1797\n",
      "Epoch  17 Batch  900/1077 - Train Accuracy: 0.8883, Validation Accuracy: 0.8519, Loss: 0.1993\n",
      "Epoch  17 Batch 1000/1077 - Train Accuracy: 0.8929, Validation Accuracy: 0.8558, Loss: 0.1743\n",
      "Epoch  18 Batch  100/1077 - Train Accuracy: 0.8949, Validation Accuracy: 0.8626, Loss: 0.1901\n",
      "Epoch  18 Batch  200/1077 - Train Accuracy: 0.8414, Validation Accuracy: 0.8615, Loss: 0.2011\n",
      "Epoch  18 Batch  300/1077 - Train Accuracy: 0.8849, Validation Accuracy: 0.8285, Loss: 0.1861\n",
      "Epoch  18 Batch  400/1077 - Train Accuracy: 0.8832, Validation Accuracy: 0.8494, Loss: 0.2012\n",
      "Epoch  18 Batch  500/1077 - Train Accuracy: 0.8785, Validation Accuracy: 0.8548, Loss: 0.1675\n",
      "Epoch  18 Batch  600/1077 - Train Accuracy: 0.8869, Validation Accuracy: 0.8530, Loss: 0.1823\n",
      "Epoch  18 Batch  700/1077 - Train Accuracy: 0.9113, Validation Accuracy: 0.8643, Loss: 0.1645\n",
      "Epoch  18 Batch  800/1077 - Train Accuracy: 0.8598, Validation Accuracy: 0.8704, Loss: 0.1804\n",
      "Epoch  18 Batch  900/1077 - Train Accuracy: 0.9004, Validation Accuracy: 0.8487, Loss: 0.1961\n",
      "Epoch  18 Batch 1000/1077 - Train Accuracy: 0.9014, Validation Accuracy: 0.8679, Loss: 0.1613\n",
      "Epoch  19 Batch  100/1077 - Train Accuracy: 0.8855, Validation Accuracy: 0.8636, Loss: 0.1747\n",
      "Epoch  19 Batch  200/1077 - Train Accuracy: 0.8406, Validation Accuracy: 0.8647, Loss: 0.1812\n",
      "Epoch  19 Batch  300/1077 - Train Accuracy: 0.8906, Validation Accuracy: 0.8540, Loss: 0.1927\n",
      "Epoch  19 Batch  400/1077 - Train Accuracy: 0.8828, Validation Accuracy: 0.8576, Loss: 0.1987\n",
      "Epoch  19 Batch  500/1077 - Train Accuracy: 0.8770, Validation Accuracy: 0.8512, Loss: 0.1647\n",
      "Epoch  19 Batch  600/1077 - Train Accuracy: 0.8969, Validation Accuracy: 0.8686, Loss: 0.1687\n",
      "Epoch  19 Batch  700/1077 - Train Accuracy: 0.9074, Validation Accuracy: 0.8594, Loss: 0.1468\n",
      "Epoch  19 Batch  800/1077 - Train Accuracy: 0.8617, Validation Accuracy: 0.8654, Loss: 0.1596\n",
      "Epoch  19 Batch  900/1077 - Train Accuracy: 0.8945, Validation Accuracy: 0.8583, Loss: 0.1895\n",
      "Epoch  19 Batch 1000/1077 - Train Accuracy: 0.9022, Validation Accuracy: 0.8612, Loss: 0.1553\n",
      "Model Trained and Saved\n"
     ]
    }
   ],
   "source": [
    "\"\"\"\n",
    "DON'T MODIFY ANYTHING IN THIS CELL\n",
    "\"\"\"\n",
    "def get_accuracy(target, logits):\n",
    "    \"\"\"\n",
    "    Calculate accuracy\n",
    "    \"\"\"\n",
    "    max_seq = max(target.shape[1], logits.shape[1])\n",
    "    if max_seq - target.shape[1]:\n",
    "        target = np.pad(\n",
    "            target,\n",
    "            [(0,0),(0,max_seq - target.shape[1])],\n",
    "            'constant')\n",
    "    if max_seq - logits.shape[1]:\n",
    "        logits = np.pad(\n",
    "            logits,\n",
    "            [(0,0),(0,max_seq - logits.shape[1])],\n",
    "            'constant')\n",
    "\n",
    "    return np.mean(np.equal(target, logits))\n",
    "\n",
    "# Split data to training and validation sets\n",
    "train_source = source_int_text[batch_size:]\n",
    "train_target = target_int_text[batch_size:]\n",
    "valid_source = source_int_text[:batch_size]\n",
    "valid_target = target_int_text[:batch_size]\n",
    "(valid_sources_batch, valid_targets_batch, valid_sources_lengths, valid_targets_lengths ) = next(get_batches(valid_source,\n",
    "                                                                                                             valid_target,\n",
    "                                                                                                             batch_size,\n",
    "                                                                                                             source_vocab_to_int['<PAD>'],\n",
    "                                                                                                             target_vocab_to_int['<PAD>']))                                                                                                  \n",
    "with tf.Session(graph=train_graph) as sess:\n",
    "    sess.run(tf.global_variables_initializer())\n",
    "\n",
    "    for epoch_i in range(epochs):\n",
    "        for batch_i, (source_batch, target_batch, sources_lengths, targets_lengths) in enumerate(\n",
    "                get_batches(train_source, train_target, batch_size,\n",
    "                            source_vocab_to_int['<PAD>'],\n",
    "                            target_vocab_to_int['<PAD>'])):\n",
    "\n",
    "            _, loss = sess.run(\n",
    "                [train_op, cost],\n",
    "                {input_data: source_batch,\n",
    "                 targets: target_batch,\n",
    "                 lr: learning_rate,\n",
    "                 target_sequence_length: targets_lengths,\n",
    "                 source_sequence_length: sources_lengths,\n",
    "                 keep_prob: keep_probability})\n",
    "\n",
    "\n",
    "            if batch_i % display_step == 0 and batch_i > 0:\n",
    "\n",
    "\n",
    "                batch_train_logits = sess.run(\n",
    "                    inference_logits,\n",
    "                    {input_data: source_batch,\n",
    "                     source_sequence_length: sources_lengths,\n",
    "                     target_sequence_length: targets_lengths,\n",
    "                     keep_prob: 1.0})\n",
    "\n",
    "\n",
    "                batch_valid_logits = sess.run(\n",
    "                    inference_logits,\n",
    "                    {input_data: valid_sources_batch,\n",
    "                     source_sequence_length: valid_sources_lengths,\n",
    "                     target_sequence_length: valid_targets_lengths,\n",
    "                     keep_prob: 1.0})\n",
    "\n",
    "                train_acc = get_accuracy(target_batch, batch_train_logits)\n",
    "\n",
    "                valid_acc = get_accuracy(valid_targets_batch, batch_valid_logits)\n",
    "\n",
    "                print('Epoch {:>3} Batch {:>4}/{} - Train Accuracy: {:>6.4f}, Validation Accuracy: {:>6.4f}, Loss: {:>6.4f}'\n",
    "                      .format(epoch_i, batch_i, len(source_int_text) // batch_size, train_acc, valid_acc, loss))\n",
    "\n",
    "    # Save Model\n",
    "    saver = tf.train.Saver()\n",
    "    saver.save(sess, save_path)\n",
    "    print('Model Trained and Saved')"
   ]
  },
  {
   "cell_type": "markdown",
   "metadata": {},
   "source": [
    "### Save Parameters\n",
    "Save the `batch_size` and `save_path` parameters for inference."
   ]
  },
  {
   "cell_type": "code",
   "execution_count": 21,
   "metadata": {
    "collapsed": true
   },
   "outputs": [],
   "source": [
    "\"\"\"\n",
    "DON'T MODIFY ANYTHING IN THIS CELL\n",
    "\"\"\"\n",
    "# Save parameters for checkpoint\n",
    "helper.save_params(save_path)"
   ]
  },
  {
   "cell_type": "markdown",
   "metadata": {},
   "source": [
    "# Checkpoint"
   ]
  },
  {
   "cell_type": "code",
   "execution_count": 22,
   "metadata": {
    "collapsed": true
   },
   "outputs": [],
   "source": [
    "\"\"\"\n",
    "DON'T MODIFY ANYTHING IN THIS CELL\n",
    "\"\"\"\n",
    "import tensorflow as tf\n",
    "import numpy as np\n",
    "import helper\n",
    "import problem_unittests as tests\n",
    "\n",
    "_, (source_vocab_to_int, target_vocab_to_int), (source_int_to_vocab, target_int_to_vocab) = helper.load_preprocess()\n",
    "load_path = helper.load_params()"
   ]
  },
  {
   "cell_type": "markdown",
   "metadata": {},
   "source": [
    "## Sentence to Sequence\n",
    "To feed a sentence into the model for translation, you first need to preprocess it.  Implement the function `sentence_to_seq()` to preprocess new sentences.\n",
    "\n",
    "- Convert the sentence to lowercase\n",
    "- Convert words into ids using `vocab_to_int`\n",
    " - Convert words not in the vocabulary, to the `<UNK>` word id."
   ]
  },
  {
   "cell_type": "code",
   "execution_count": 37,
   "metadata": {},
   "outputs": [
    {
     "name": "stdout",
     "output_type": "stream",
     "text": [
      "Tests Passed\n"
     ]
    }
   ],
   "source": [
    "def sentence_to_seq(sentence, vocab_to_int):\n",
    "    \"\"\"\n",
    "    Convert a sentence to a sequence of ids\n",
    "    :param sentence: String\n",
    "    :param vocab_to_int: Dictionary to go from the words to an id\n",
    "    :return: List of word ids\n",
    "    \"\"\"\n",
    "    # TODO: Implement Function\n",
    "    lower_sentence = sentence.lower()\n",
    "#    print(lower_sentence)\n",
    "#    for word in lower_sentence.split():\n",
    "#        print(word)\n",
    "    word_ids = [vocab_to_int.get(word, vocab_to_int['<UNK>']) for word in lower_sentence.split()] \n",
    "    \n",
    "    return word_ids\n",
    "\n",
    "\n",
    "\"\"\"\n",
    "DON'T MODIFY ANYTHING IN THIS CELL THAT IS BELOW THIS LINE\n",
    "\"\"\"\n",
    "tests.test_sentence_to_seq(sentence_to_seq)"
   ]
  },
  {
   "cell_type": "markdown",
   "metadata": {},
   "source": [
    "## Translate\n",
    "This will translate `translate_sentence` from English to French."
   ]
  },
  {
   "cell_type": "code",
   "execution_count": 38,
   "metadata": {},
   "outputs": [
    {
     "name": "stdout",
     "output_type": "stream",
     "text": [
      "INFO:tensorflow:Restoring parameters from checkpoints/dev\n",
      "Input\n",
      "  Word Ids:      [62, 221, 24, 212, 51, 5, 71]\n",
      "  English Words: ['he', 'saw', 'a', 'old', 'yellow', 'truck', '.']\n",
      "\n",
      "Prediction\n",
      "  Word Ids:      [236, 159, 242, 330, 63, 325, 209, 228, 221, 1]\n",
      "  French Words: il pourrait une de janvier le mois plus . <EOS>\n"
     ]
    }
   ],
   "source": [
    "translate_sentence = 'he saw a old yellow truck .'\n",
    "\n",
    "\n",
    "\"\"\"\n",
    "DON'T MODIFY ANYTHING IN THIS CELL\n",
    "\"\"\"\n",
    "translate_sentence = sentence_to_seq(translate_sentence, source_vocab_to_int)\n",
    "\n",
    "loaded_graph = tf.Graph()\n",
    "with tf.Session(graph=loaded_graph) as sess:\n",
    "    # Load saved model\n",
    "    loader = tf.train.import_meta_graph(load_path + '.meta')\n",
    "    loader.restore(sess, load_path)\n",
    "\n",
    "    input_data = loaded_graph.get_tensor_by_name('input:0')\n",
    "    logits = loaded_graph.get_tensor_by_name('predictions:0')\n",
    "    target_sequence_length = loaded_graph.get_tensor_by_name('target_sequence_length:0')\n",
    "    source_sequence_length = loaded_graph.get_tensor_by_name('source_sequence_length:0')\n",
    "    keep_prob = loaded_graph.get_tensor_by_name('keep_prob:0')\n",
    "\n",
    "    translate_logits = sess.run(logits, {input_data: [translate_sentence]*batch_size,\n",
    "                                         target_sequence_length: [len(translate_sentence)*2]*batch_size,\n",
    "                                         source_sequence_length: [len(translate_sentence)]*batch_size,\n",
    "                                         keep_prob: 1.0})[0]\n",
    "\n",
    "print('Input')\n",
    "print('  Word Ids:      {}'.format([i for i in translate_sentence]))\n",
    "print('  English Words: {}'.format([source_int_to_vocab[i] for i in translate_sentence]))\n",
    "\n",
    "print('\\nPrediction')\n",
    "print('  Word Ids:      {}'.format([i for i in translate_logits]))\n",
    "print('  French Words: {}'.format(\" \".join([target_int_to_vocab[i] for i in translate_logits])))\n"
   ]
  },
  {
   "cell_type": "markdown",
   "metadata": {},
   "source": [
    "## Imperfect Translation\n",
    "You might notice that some sentences translate better than others.  Since the dataset you're using only has a vocabulary of 227 English words of the thousands that you use, you're only going to see good results using these words.  For this project, you don't need a perfect translation. However, if you want to create a better translation model, you'll need better data.\n",
    "\n",
    "You can train on the [WMT10 French-English corpus](http://www.statmt.org/wmt10/training-giga-fren.tar).  This dataset has more vocabulary and richer in topics discussed.  However, this will take you days to train, so make sure you've a GPU and the neural network is performing well on dataset we provided.  Just make sure you play with the WMT10 corpus after you've submitted this project.\n",
    "## Submitting This Project\n",
    "When submitting this project, make sure to run all the cells before saving the notebook. Save the notebook file as \"dlnd_language_translation.ipynb\" and save it as a HTML file under \"File\" -> \"Download as\". Include the \"helper.py\" and \"problem_unittests.py\" files in your submission."
   ]
  }
 ],
 "metadata": {
  "anaconda-cloud": {},
  "kernelspec": {
   "display_name": "Python 3",
   "language": "python",
   "name": "python3"
  },
  "language_info": {
   "codemirror_mode": {
    "name": "ipython",
    "version": 3
   },
   "file_extension": ".py",
   "mimetype": "text/x-python",
   "name": "python",
   "nbconvert_exporter": "python",
   "pygments_lexer": "ipython3",
   "version": "3.5.3"
  }
 },
 "nbformat": 4,
 "nbformat_minor": 1
}
